{
 "cells": [
  {
   "cell_type": "markdown",
   "metadata": {},
   "source": [
    "# ENVIRONMENT"
   ]
  },
  {
   "cell_type": "code",
   "execution_count": 15,
   "metadata": {},
   "outputs": [
    {
     "name": "stdout",
     "output_type": "stream",
     "text": [
      "Using device: cuda\n",
      "Using model: Qwen/Qwen2-1.5B\n"
     ]
    }
   ],
   "source": [
    "import torch\n",
    "\n",
    "device = torch.device(\"cuda\" if torch.cuda.is_available() else \"cpu\")\n",
    "print(f\"Using device: {device}\")\n",
    "\n",
    "model_name = \"Qwen/Qwen2-1.5B\"\n",
    "print(f\"Using model: {model_name}\")"
   ]
  },
  {
   "cell_type": "markdown",
   "metadata": {},
   "source": [
    "# LOADING DATA"
   ]
  },
  {
   "cell_type": "code",
   "execution_count": 16,
   "metadata": {},
   "outputs": [
    {
     "name": "stdout",
     "output_type": "stream",
     "text": [
      "First sample of dataset: \n",
      " {'messages': [{'role': 'system', 'content': \"You are an assistant for question-answering tasks.Use the following pieces of retrieved context to answer the question.If there's no related context, just answer with your base knowledge.Use three sentences maximum and keep the answer concise.\"}, {'role': 'user', 'content': 'Có thể sử dụng số điện thoại khác để đăng nhập không?'}, {'role': 'assistant', 'content': 'Có, nhưng số điện thoại đó phải được liên kết với tài khoản của bạn trước đó. Nếu số chưa được liên kết, bạn sẽ không thể sử dụng nó để đăng nhập.'}]}\n"
     ]
    }
   ],
   "source": [
    "from datasets import load_dataset\n",
    "\n",
    "data_filename = \"./data/sample_data.jsonl\"\n",
    "\n",
    "dataset = load_dataset(\"json\", data_files=data_filename)\n",
    "\n",
    "print(f\"First sample of dataset: \\n {dataset[\"train\"][0]}\")\n",
    "\n",
    "# Split dataset\n",
    "split_datasets = dataset['train'].train_test_split(test_size=0.1)"
   ]
  },
  {
   "cell_type": "markdown",
   "metadata": {},
   "source": [
    "# TOKENIZE"
   ]
  },
  {
   "cell_type": "code",
   "execution_count": 17,
   "metadata": {},
   "outputs": [],
   "source": [
    "SYSTEM_PROMPT = \"You are an useful assistant.\""
   ]
  },
  {
   "cell_type": "code",
   "execution_count": 18,
   "metadata": {},
   "outputs": [],
   "source": [
    "from transformers import AutoTokenizer\n",
    "\n",
    "tokenizer = AutoTokenizer.from_pretrained(model_name)\n",
    "\n",
    "if tokenizer.pad_token is None:\n",
    "    tokenizer.pad_token = tokenizer.eos_token"
   ]
  },
  {
   "cell_type": "code",
   "execution_count": 19,
   "metadata": {},
   "outputs": [],
   "source": [
    "\n",
    "def formatting_prompts_func(examples):\n",
    "    formatted_data = {\"input_ids\": [], \"attention_mask\": [], \"labels\": []}  \n",
    "    \n",
    "    for i in range(len(examples['messages'])):     \n",
    "        messages = examples['messages'][i]\n",
    "        \n",
    "        # Format the chat template for this example\n",
    "        formatted_chat = tokenizer.apply_chat_template(messages, tokenize=False)\n",
    "        \n",
    "        # print(f\"Here's some formatted chat: {formatted_chat}\\n\")\n",
    "        # Tokenize the formatted chat\n",
    "        encoding = tokenizer(\n",
    "            formatted_chat,\n",
    "            padding=\"max_length\",\n",
    "            truncation=True,\n",
    "            max_length=240,\n",
    "            return_tensors=\"pt\",\n",
    "        )\n",
    "        \n",
    "        \n",
    "        # Add the tokenized data to the output containers\n",
    "        formatted_data[\"input_ids\"].append(encoding[\"input_ids\"].squeeze(0).tolist())\n",
    "        formatted_data[\"attention_mask\"].append(encoding[\"attention_mask\"].squeeze(0).tolist())\n",
    "        formatted_data[\"labels\"].append(encoding[\"input_ids\"].squeeze(0).tolist())  # Use input_ids as labels for causal LM\n",
    "    \n",
    "    return formatted_data"
   ]
  },
  {
   "cell_type": "code",
   "execution_count": 28,
   "metadata": {},
   "outputs": [
    {
     "name": "stdout",
     "output_type": "stream",
     "text": [
      "[{'role': 'system', 'content': \"You are an assistant for question-answering tasks.Use the following pieces of retrieved context to answer the question.If there's no related context, just answer with your base knowledge.Use three sentences maximum and keep the answer concise.\"}, {'role': 'user', 'content': 'Tôi có thể xem danh sách người thụ hưởng đã thêm ở đâu?'}, {'role': 'assistant', 'content': 'Vào mục \"Quản lý danh bạ thụ hưởng\" hoặc \"Danh sách người thụ hưởng\" trong ứng dụng để xem danh sách đã lưu.'}]\n"
     ]
    }
   ],
   "source": [
    "print(split_datasets['train']['messages'][15])"
   ]
  },
  {
   "cell_type": "code",
   "execution_count": null,
   "metadata": {},
   "outputs": [
    {
     "data": {
      "application/vnd.jupyter.widget-view+json": {
       "model_id": "0c84b92b4e5c4eef9a6e6322ce686906",
       "version_major": 2,
       "version_minor": 0
      },
      "text/plain": [
       "Map:   0%|          | 0/89 [00:00<?, ? examples/s]"
      ]
     },
     "metadata": {},
     "output_type": "display_data"
    },
    {
     "data": {
      "application/vnd.jupyter.widget-view+json": {
       "model_id": "32ff1e33421d491d8527a47e68258d23",
       "version_major": 2,
       "version_minor": 0
      },
      "text/plain": [
       "Map:   0%|          | 0/10 [00:00<?, ? examples/s]"
      ]
     },
     "metadata": {},
     "output_type": "display_data"
    },
    {
     "name": "stdout",
     "output_type": "stream",
     "text": [
      "{'messages': [{'role': 'system', 'content': \"You are an assistant for question-answering tasks.Use the following pieces of retrieved context to answer the question.If there's no related context, just answer with your base knowledge.Use three sentences maximum and keep the answer concise.\"}, {'role': 'user', 'content': 'Mật khẩu mới có thể giống với mật khẩu cũ không?'}, {'role': 'assistant', 'content': 'Thông thường, không được phép để đảm bảo tính bảo mật. Nếu bạn cố gắng đặt lại, hệ thống sẽ nhắc bạn chọn mật khẩu khác với mật khẩu cũ.'}], 'input_ids': [151644, 8948, 198, 2610, 525, 458, 17847, 369, 3405, 12, 596, 86, 4671, 9079, 9046, 279, 2701, 9666, 315, 30403, 2266, 311, 4226, 279, 3405, 32901, 1052, 594, 902, 5435, 2266, 11, 1101, 4226, 448, 697, 2331, 6540, 9046, 2326, 22870, 7192, 323, 2506, 279, 4226, 63594, 13, 151645, 198, 151644, 872, 198, 44, 52885, 97610, 92105, 28776, 128254, 130469, 128250, 130821, 97610, 133138, 53037, 30, 151645, 198, 151644, 77091, 198, 98041, 128454, 11, 53037, 63478, 130224, 79668, 129551, 128417, 128439, 128417, 130821, 13, 129024, 89437, 129234, 137827, 128845, 85852, 11, 128457, 128573, 128267, 136674, 89437, 128509, 130821, 97610, 128354, 128250, 130821, 97610, 133138, 13, 151645, 198, 151643, 151643, 151643, 151643, 151643, 151643, 151643, 151643, 151643, 151643, 151643, 151643, 151643, 151643, 151643, 151643, 151643, 151643, 151643, 151643, 151643, 151643, 151643, 151643, 151643, 151643, 151643, 151643, 151643, 151643, 151643, 151643, 151643, 151643, 151643, 151643, 151643, 151643, 151643, 151643, 151643, 151643, 151643, 151643, 151643, 151643, 151643, 151643, 151643, 151643, 151643, 151643, 151643, 151643, 151643, 151643, 151643, 151643, 151643, 151643, 151643, 151643, 151643, 151643, 151643, 151643, 151643, 151643, 151643, 151643, 151643, 151643, 151643, 151643, 151643, 151643, 151643, 151643, 151643, 151643, 151643, 151643, 151643, 151643, 151643, 151643, 151643, 151643, 151643, 151643, 151643, 151643, 151643, 151643, 151643, 151643, 151643, 151643, 151643, 151643, 151643, 151643, 151643, 151643, 151643, 151643, 151643, 151643, 151643, 151643, 151643, 151643, 151643, 151643, 151643, 151643, 151643, 151643, 151643, 151643, 151643, 151643, 151643, 151643, 151643, 151643, 151643, 151643, 151643, 151643, 151643, 151643, 151643], 'attention_mask': [1, 1, 1, 1, 1, 1, 1, 1, 1, 1, 1, 1, 1, 1, 1, 1, 1, 1, 1, 1, 1, 1, 1, 1, 1, 1, 1, 1, 1, 1, 1, 1, 1, 1, 1, 1, 1, 1, 1, 1, 1, 1, 1, 1, 1, 1, 1, 1, 1, 1, 1, 1, 1, 1, 1, 1, 1, 1, 1, 1, 1, 1, 1, 1, 1, 1, 1, 1, 1, 1, 1, 1, 1, 1, 1, 1, 1, 1, 1, 1, 1, 1, 1, 1, 1, 1, 1, 1, 1, 1, 1, 1, 1, 1, 1, 1, 1, 1, 1, 1, 1, 1, 1, 1, 1, 1, 1, 0, 0, 0, 0, 0, 0, 0, 0, 0, 0, 0, 0, 0, 0, 0, 0, 0, 0, 0, 0, 0, 0, 0, 0, 0, 0, 0, 0, 0, 0, 0, 0, 0, 0, 0, 0, 0, 0, 0, 0, 0, 0, 0, 0, 0, 0, 0, 0, 0, 0, 0, 0, 0, 0, 0, 0, 0, 0, 0, 0, 0, 0, 0, 0, 0, 0, 0, 0, 0, 0, 0, 0, 0, 0, 0, 0, 0, 0, 0, 0, 0, 0, 0, 0, 0, 0, 0, 0, 0, 0, 0, 0, 0, 0, 0, 0, 0, 0, 0, 0, 0, 0, 0, 0, 0, 0, 0, 0, 0, 0, 0, 0, 0, 0, 0, 0, 0, 0, 0, 0, 0, 0, 0, 0, 0, 0, 0, 0, 0, 0, 0, 0, 0], 'labels': [151644, 8948, 198, 2610, 525, 458, 17847, 369, 3405, 12, 596, 86, 4671, 9079, 9046, 279, 2701, 9666, 315, 30403, 2266, 311, 4226, 279, 3405, 32901, 1052, 594, 902, 5435, 2266, 11, 1101, 4226, 448, 697, 2331, 6540, 9046, 2326, 22870, 7192, 323, 2506, 279, 4226, 63594, 13, 151645, 198, 151644, 872, 198, 44, 52885, 97610, 92105, 28776, 128254, 130469, 128250, 130821, 97610, 133138, 53037, 30, 151645, 198, 151644, 77091, 198, 98041, 128454, 11, 53037, 63478, 130224, 79668, 129551, 128417, 128439, 128417, 130821, 13, 129024, 89437, 129234, 137827, 128845, 85852, 11, 128457, 128573, 128267, 136674, 89437, 128509, 130821, 97610, 128354, 128250, 130821, 97610, 133138, 13, 151645, 198, 151643, 151643, 151643, 151643, 151643, 151643, 151643, 151643, 151643, 151643, 151643, 151643, 151643, 151643, 151643, 151643, 151643, 151643, 151643, 151643, 151643, 151643, 151643, 151643, 151643, 151643, 151643, 151643, 151643, 151643, 151643, 151643, 151643, 151643, 151643, 151643, 151643, 151643, 151643, 151643, 151643, 151643, 151643, 151643, 151643, 151643, 151643, 151643, 151643, 151643, 151643, 151643, 151643, 151643, 151643, 151643, 151643, 151643, 151643, 151643, 151643, 151643, 151643, 151643, 151643, 151643, 151643, 151643, 151643, 151643, 151643, 151643, 151643, 151643, 151643, 151643, 151643, 151643, 151643, 151643, 151643, 151643, 151643, 151643, 151643, 151643, 151643, 151643, 151643, 151643, 151643, 151643, 151643, 151643, 151643, 151643, 151643, 151643, 151643, 151643, 151643, 151643, 151643, 151643, 151643, 151643, 151643, 151643, 151643, 151643, 151643, 151643, 151643, 151643, 151643, 151643, 151643, 151643, 151643, 151643, 151643, 151643, 151643, 151643, 151643, 151643, 151643, 151643, 151643, 151643, 151643, 151643, 151643]}\n"
     ]
    }
   ],
   "source": [
    "from transformers import DataCollatorForLanguageModeling\n",
    "\n",
    "tokenized_dataset = split_datasets.map(formatting_prompts_func, batched=True)\n",
    "data_collator = DataCollatorForLanguageModeling(tokenizer=tokenizer, mlm=False)\n",
    "\n",
    "print(tokenized_dataset[\"train\"])"
   ]
  },
  {
   "cell_type": "code",
   "execution_count": 21,
   "metadata": {},
   "outputs": [
    {
     "name": "stdout",
     "output_type": "stream",
     "text": [
      "DatasetDict({\n",
      "    train: Dataset({\n",
      "        features: ['messages'],\n",
      "        num_rows: 89\n",
      "    })\n",
      "    test: Dataset({\n",
      "        features: ['messages'],\n",
      "        num_rows: 10\n",
      "    })\n",
      "})\n"
     ]
    }
   ],
   "source": [
    "print(split_datasets)"
   ]
  },
  {
   "cell_type": "code",
   "execution_count": 22,
   "metadata": {},
   "outputs": [
    {
     "name": "stdout",
     "output_type": "stream",
     "text": [
      "[[{'role': 'system', 'content': \"You are an assistant for question-answering tasks.Use the following pieces of retrieved context to answer the question.If there's no related context, just answer with your base knowledge.Use three sentences maximum and keep the answer concise.\"}, {'role': 'user', 'content': 'Mật khẩu mới có thể giống với mật khẩu cũ không?'}, {'role': 'assistant', 'content': 'Thông thường, không được phép để đảm bảo tính bảo mật. Nếu bạn cố gắng đặt lại, hệ thống sẽ nhắc bạn chọn mật khẩu khác với mật khẩu cũ.'}], [{'role': 'system', 'content': \"You are an assistant for question-answering tasks.Use the following pieces of retrieved context to answer the question.If there's no related context, just answer with your base knowledge.Use three sentences maximum and keep the answer concise.\"}, {'role': 'user', 'content': 'Làm thế nào để biết vé xe đã đặt thành công?'}, {'role': 'assistant', 'content': 'Sau khi đặt vé, bạn sẽ nhận được thông báo \"Đặt vé thành công\" kèm mã vé. Bạn cũng có thể kiểm tra trong mục \"Lịch sử giao dịch\".'}], [{'role': 'system', 'content': \"You are an assistant for question-answering tasks.Use the following pieces of retrieved context to answer the question.If there's no related context, just answer with your base knowledge.Use three sentences maximum and keep the answer concise.\"}, {'role': 'user', 'content': 'Làm thế nào để thanh toán phí VETC qua app?'}, {'role': 'assistant', 'content': 'Vào mục \"Thanh toán hóa đơn\", chọn \"VETC\", nhập mã khách hàng hoặc biển số xe, kiểm tra thông tin và xác nhận thanh toán.'}], [{'role': 'system', 'content': \"You are an assistant for question-answering tasks.Use the following pieces of retrieved context to answer the question.If there's no related context, just answer with your base knowledge.Use three sentences maximum and keep the answer concise.\"}, {'role': 'user', 'content': 'Có thể sử dụng số điện thoại khác để đăng nhập không?'}, {'role': 'assistant', 'content': 'Có, nhưng số điện thoại đó phải được liên kết với tài khoản của bạn trước đó. Nếu số chưa được liên kết, bạn sẽ không thể sử dụng nó để đăng nhập.'}], [{'role': 'system', 'content': \"You are an assistant for question-answering tasks.Use the following pieces of retrieved context to answer the question.If there's no related context, just answer with your base knowledge.Use three sentences maximum and keep the answer concise.\"}, {'role': 'user', 'content': 'Làm thế nào để biết vé tàu đã đặt thành công?'}, {'role': 'assistant', 'content': 'Sau khi đặt vé, hệ thống sẽ hiển thị thông báo \"Đặt vé thành công\" và gửi mã vé qua email hoặc ứng dụng.'}], [{'role': 'system', 'content': \"You are an assistant for question-answering tasks.Use the following pieces of retrieved context to answer the question.If there's no related context, just answer with your base knowledge.Use three sentences maximum and keep the answer concise.\"}, {'role': 'user', 'content': 'Lịch sử giao dịch có hiển thị tất cả các giao dịch không?'}, {'role': 'assistant', 'content': 'Có, lịch sử giao dịch thường hiển thị toàn bộ các giao dịch, nhưng một số hệ thống có thể chỉ hiển thị giao dịch trong một khoảng thời gian nhất định.'}], [{'role': 'system', 'content': \"You are an assistant for question-answering tasks.Use the following pieces of retrieved context to answer the question.If there's no related context, just answer with your base knowledge.Use three sentences maximum and keep the answer concise.\"}, {'role': 'user', 'content': 'Có thể thêm nhiều tài khoản SacombankPay không?'}, {'role': 'assistant', 'content': 'Có, bạn có thể thêm nhiều tài khoản SacombankPay vào danh bạ thụ hưởng mà không giới hạn số lượng.'}], [{'role': 'system', 'content': \"You are an assistant for question-answering tasks.Use the following pieces of retrieved context to answer the question.If there's no related context, just answer with your base knowledge.Use three sentences maximum and keep the answer concise.\"}, {'role': 'user', 'content': 'Làm thế nào để chuyển tiền từ ví đến số tài khoản?'}, {'role': 'assistant', 'content': 'Vào mục \"Chuyển tiền\", chọn \"Từ ví đến tài khoản\", nhập thông tin số tài khoản, ngân hàng và số tiền, sau đó xác nhận giao dịch bằng OTP hoặc mã PIN.'}], [{'role': 'system', 'content': \"You are an assistant for question-answering tasks.Use the following pieces of retrieved context to answer the question.If there's no related context, just answer with your base knowledge.Use three sentences maximum and keep the answer concise.\"}, {'role': 'user', 'content': 'Làm thế nào để chọn nguồn tiền cho giao dịch?'}, {'role': 'assistant', 'content': 'Trong mục thanh toán hoặc chuyển tiền, bạn có thể chọn nguồn tiền từ danh sách ví, tài khoản, hoặc thẻ đã liên kết.'}], [{'role': 'system', 'content': \"You are an assistant for question-answering tasks.Use the following pieces of retrieved context to answer the question.If there's no related context, just answer with your base knowledge.Use three sentences maximum and keep the answer concise.\"}, {'role': 'user', 'content': 'Nếu tôi không nhớ mật khẩu mới thì phải làm sao?'}, {'role': 'assistant', 'content': 'Bạn cần sử dụng chức năng \"Quên mật khẩu\" để đặt lại mật khẩu mới. Hệ thống sẽ gửi hướng dẫn qua email hoặc số điện thoại để bạn hoàn thành việc này.'}], [{'role': 'system', 'content': \"You are an assistant for question-answering tasks.Use the following pieces of retrieved context to answer the question.If there's no related context, just answer with your base knowledge.Use three sentences maximum and keep the answer concise.\"}, {'role': 'user', 'content': 'Tôi có thể xem thông tin chi tiết về giao dịch không?'}, {'role': 'assistant', 'content': 'Có, bạn vào mục \"Lịch sử giao dịch\", chọn giao dịch cụ thể để xem chi tiết như thời gian, số tiền, đối tác, và trạng thái giao dịch.'}], [{'role': 'system', 'content': \"You are an assistant for question-answering tasks.Use the following pieces of retrieved context to answer the question.If there's no related context, just answer with your base knowledge.Use three sentences maximum and keep the answer concise.\"}, {'role': 'user', 'content': 'Làm thế nào để biết tài khoản SacombankPay đã được thêm thành công?'}, {'role': 'assistant', 'content': 'Sau khi thêm, bạn sẽ nhận được thông báo \"Thêm thành công\". Tài khoản mới sẽ hiển thị trong danh sách thụ hưởng.'}], [{'role': 'system', 'content': \"You are an assistant for question-answering tasks.Use the following pieces of retrieved context to answer the question.If there's no related context, just answer with your base knowledge.Use three sentences maximum and keep the answer concise.\"}, {'role': 'user', 'content': 'Tôi cần làm gì để mở thẻ tín dụng phi vật lý?'}, {'role': 'assistant', 'content': 'Vào mục \"Quản lý thẻ\", chọn \"Mở thẻ tín dụng phi vật lý\", nhập thông tin cá nhân, xác minh tài khoản và làm theo hướng dẫn của ứng dụng.'}], [{'role': 'system', 'content': \"You are an assistant for question-answering tasks.Use the following pieces of retrieved context to answer the question.If there's no related context, just answer with your base knowledge.Use three sentences maximum and keep the answer concise.\"}, {'role': 'user', 'content': 'Tôi có thể tìm vé xe ở đâu trong app?'}, {'role': 'assistant', 'content': 'Vào mục \"Đặt vé xe\", nhập điểm đi, điểm đến, ngày khởi hành để xem các chuyến xe có sẵn.'}], [{'role': 'system', 'content': \"You are an assistant for question-answering tasks.Use the following pieces of retrieved context to answer the question.If there's no related context, just answer with your base knowledge.Use three sentences maximum and keep the answer concise.\"}, {'role': 'user', 'content': 'Nếu tôi chọn sai mệnh giá thì sao?'}, {'role': 'assistant', 'content': 'Bạn cần hủy giao dịch trước khi xác nhận thanh toán. Sau khi giao dịch hoàn tất, không thể hoàn tiền hoặc thay đổi mệnh giá.'}], [{'role': 'system', 'content': \"You are an assistant for question-answering tasks.Use the following pieces of retrieved context to answer the question.If there's no related context, just answer with your base knowledge.Use three sentences maximum and keep the answer concise.\"}, {'role': 'user', 'content': 'Tôi có thể xem danh sách người thụ hưởng đã thêm ở đâu?'}, {'role': 'assistant', 'content': 'Vào mục \"Quản lý danh bạ thụ hưởng\" hoặc \"Danh sách người thụ hưởng\" trong ứng dụng để xem danh sách đã lưu.'}], [{'role': 'system', 'content': \"You are an assistant for question-answering tasks.Use the following pieces of retrieved context to answer the question.If there's no related context, just answer with your base knowledge.Use three sentences maximum and keep the answer concise.\"}, {'role': 'user', 'content': 'Tôi có thể mở thẻ tín dụng phi vật lý từ đâu trong app?'}, {'role': 'assistant', 'content': 'Truy cập mục \"Dịch vụ thẻ\", sau đó chọn \"Mở thẻ tín dụng phi vật lý\". Làm theo các bước được hướng dẫn trong ứng dụng.'}], [{'role': 'system', 'content': \"You are an assistant for question-answering tasks.Use the following pieces of retrieved context to answer the question.If there's no related context, just answer with your base knowledge.Use three sentences maximum and keep the answer concise.\"}, {'role': 'user', 'content': 'Tôi có thể liên kết nhiều thẻ vào tài khoản không?'}, {'role': 'assistant', 'content': 'Có, hầu hết các hệ thống cho phép liên kết nhiều thẻ để sử dụng linh hoạt. Bạn có thể thêm thẻ mới trong mục \"Liên kết thẻ\".'}], [{'role': 'system', 'content': \"You are an assistant for question-answering tasks.Use the following pieces of retrieved context to answer the question.If there's no related context, just answer with your base knowledge.Use three sentences maximum and keep the answer concise.\"}, {'role': 'user', 'content': 'Nếu tôi nhập sai mã OTP thì có thể thử lại không?'}, {'role': 'assistant', 'content': 'Có, bạn có thể nhập lại mã OTP đúng. Tuy nhiên, nếu nhập sai nhiều lần, hệ thống có thể khóa tài khoản tạm thời vì lý do bảo mật.'}], [{'role': 'system', 'content': \"You are an assistant for question-answering tasks.Use the following pieces of retrieved context to answer the question.If there's no related context, just answer with your base knowledge.Use three sentences maximum and keep the answer concise.\"}, {'role': 'user', 'content': 'Tôi cần làm gì để xác thực số điện thoại khi quên mật khẩu?'}, {'role': 'assistant', 'content': 'Truy cập trang/quy trình đặt lại mật khẩu, nhập số điện thoại đã đăng ký, sau đó làm theo hướng dẫn để nhận mã xác thực qua SMS hoặc cuộc gọi để xác nhận.'}], [{'role': 'system', 'content': \"You are an assistant for question-answering tasks.Use the following pieces of retrieved context to answer the question.If there's no related context, just answer with your base knowledge.Use three sentences maximum and keep the answer concise.\"}, {'role': 'user', 'content': 'Tôi có thể xem thông tin thẻ trên điện thoại không?'}, {'role': 'assistant', 'content': 'Có, bạn có thể xem thông tin thẻ như số thẻ, ngày hết hạn trong mục \"Quản lý thẻ\" trên ứng dụng, nhưng một số thông tin như CVV có thể bị ẩn vì lý do bảo mật.'}], [{'role': 'system', 'content': \"You are an assistant for question-answering tasks.Use the following pieces of retrieved context to answer the question.If there's no related context, just answer with your base knowledge.Use three sentences maximum and keep the answer concise.\"}, {'role': 'user', 'content': 'Hệ thống có hiển thị thông tin suất chiếu không?'}, {'role': 'assistant', 'content': 'Có, trong mục \"Đặt vé xem phim\", bạn có thể xem chi tiết về suất chiếu, giờ chiếu và rạp phim.'}], [{'role': 'system', 'content': \"You are an assistant for question-answering tasks.Use the following pieces of retrieved context to answer the question.If there's no related context, just answer with your base knowledge.Use three sentences maximum and keep the answer concise.\"}, {'role': 'user', 'content': 'Có cách nào để thay đổi thẻ mặc định cho thanh toán không?'}, {'role': 'assistant', 'content': 'Có, vào mục \"Quản lý thẻ\", chọn thẻ mới và đặt làm thẻ mặc định cho thanh toán. Hệ thống sẽ lưu thay đổi ngay lập tức.'}], [{'role': 'system', 'content': \"You are an assistant for question-answering tasks.Use the following pieces of retrieved context to answer the question.If there's no related context, just answer with your base knowledge.Use three sentences maximum and keep the answer concise.\"}, {'role': 'user', 'content': 'Làm thế nào để liên kết thẻ trong ứng dụng?'}, {'role': 'assistant', 'content': 'Vào mục \"Liên kết thẻ\", nhập thông tin thẻ (số thẻ, ngày hết hạn, mã CVV) và làm theo hướng dẫn. Bạn có thể cần xác minh qua mã OTP gửi về số điện thoại đăng ký.'}], [{'role': 'system', 'content': \"You are an assistant for question-answering tasks.Use the following pieces of retrieved context to answer the question.If there's no related context, just answer with your base knowledge.Use three sentences maximum and keep the answer concise.\"}, {'role': 'user', 'content': 'Tôi có thể xem số dư thẻ khi offline không?'}, {'role': 'assistant', 'content': 'Không, bạn cần kết nối internet để cập nhật và xem số dư thẻ.'}], [{'role': 'system', 'content': \"You are an assistant for question-answering tasks.Use the following pieces of retrieved context to answer the question.If there's no related context, just answer with your base knowledge.Use three sentences maximum and keep the answer concise.\"}, {'role': 'user', 'content': 'Có thể sao kê giao dịch trong một khoảng thời gian cụ thể không?'}, {'role': 'assistant', 'content': 'Có, hầu hết các hệ thống đều cho phép chọn khoảng thời gian cụ thể để xuất sao kê giao dịch, ví dụ: tuần, tháng, hoặc tùy chỉnh theo ngày.'}], [{'role': 'system', 'content': \"You are an assistant for question-answering tasks.Use the following pieces of retrieved context to answer the question.If there's no related context, just answer with your base knowledge.Use three sentences maximum and keep the answer concise.\"}, {'role': 'user', 'content': 'Tôi có thể thay đổi mật khẩu trên điện thoại không?'}, {'role': 'assistant', 'content': 'Có, bạn có thể vào mục \"Cài đặt tài khoản\" hoặc \"Bảo mật\" trên ứng dụng để thay đổi mật khẩu. Quy trình thường đơn giản và dễ thực hiện.'}], [{'role': 'system', 'content': \"You are an assistant for question-answering tasks.Use the following pieces of retrieved context to answer the question.If there's no related context, just answer with your base knowledge.Use three sentences maximum and keep the answer concise.\"}, {'role': 'user', 'content': 'Làm thế nào để nạp thẻ điện thoại qua app?'}, {'role': 'assistant', 'content': 'Vào mục \"Nạp thẻ điện thoại\", chọn nhà mạng, nhập số điện thoại, chọn mệnh giá, kiểm tra thông tin và xác nhận giao dịch.'}], [{'role': 'system', 'content': \"You are an assistant for question-answering tasks.Use the following pieces of retrieved context to answer the question.If there's no related context, just answer with your base knowledge.Use three sentences maximum and keep the answer concise.\"}, {'role': 'user', 'content': 'Có thể xem số dư tài khoản từ ứng dụng di động không?'}, {'role': 'assistant', 'content': 'Có, bạn chỉ cần đăng nhập vào ứng dụng di động, số dư tài khoản thường được hiển thị trên trang chủ hoặc mục \"Tài khoản\".'}], [{'role': 'system', 'content': \"You are an assistant for question-answering tasks.Use the following pieces of retrieved context to answer the question.If there's no related context, just answer with your base knowledge.Use three sentences maximum and keep the answer concise.\"}, {'role': 'user', 'content': 'Tôi có thể xem số dư và hạn mức khả dụng ở đâu?'}, {'role': 'assistant', 'content': 'Bạn có thể xem thông tin này trong mục \"Tài khoản\" hoặc \"Số dư\" trên ứng dụng hoặc website, thường nằm ở phần giao diện chính sau khi đăng nhập.'}], [{'role': 'system', 'content': \"You are an assistant for question-answering tasks.Use the following pieces of retrieved context to answer the question.If there's no related context, just answer with your base knowledge.Use three sentences maximum and keep the answer concise.\"}, {'role': 'user', 'content': 'Làm thế nào để thanh toán hóa đơn điện qua app?'}, {'role': 'assistant', 'content': 'Vào mục \"Thanh toán hóa đơn\", chọn \"Điện\", nhập mã khách hàng hoặc quét mã hóa đơn, kiểm tra thông tin và xác nhận thanh toán.'}], [{'role': 'system', 'content': \"You are an assistant for question-answering tasks.Use the following pieces of retrieved context to answer the question.If there's no related context, just answer with your base knowledge.Use three sentences maximum and keep the answer concise.\"}, {'role': 'user', 'content': 'Tôi có thể sử dụng mật khẩu cũ sau khi đã thay đổi không?'}, {'role': 'assistant', 'content': 'Không, để đảm bảo bảo mật, hầu hết các hệ thống không cho phép sử dụng lại mật khẩu cũ.'}], [{'role': 'system', 'content': \"You are an assistant for question-answering tasks.Use the following pieces of retrieved context to answer the question.If there's no related context, just answer with your base knowledge.Use three sentences maximum and keep the answer concise.\"}, {'role': 'user', 'content': 'Có thể tắt thanh toán hóa đơn tự động không?'}, {'role': 'assistant', 'content': 'Có, vào mục \"Quản lý hóa đơn\", chọn hóa đơn cần tắt và tắt tùy chọn \"Thanh toán tự động\".'}], [{'role': 'system', 'content': \"You are an assistant for question-answering tasks.Use the following pieces of retrieved context to answer the question.If there's no related context, just answer with your base knowledge.Use three sentences maximum and keep the answer concise.\"}, {'role': 'user', 'content': 'Tôi có thể sử dụng khoảng trắng trong mật khẩu không?'}, {'role': 'assistant', 'content': 'Có, một số hệ thống cho phép sử dụng khoảng trắng trong mật khẩu để tăng độ phức tạp, nhưng không phải tất cả đều hỗ trợ.'}], [{'role': 'system', 'content': \"You are an assistant for question-answering tasks.Use the following pieces of retrieved context to answer the question.If there's no related context, just answer with your base knowledge.Use three sentences maximum and keep the answer concise.\"}, {'role': 'user', 'content': 'Tôi có thể thanh toán hóa đơn nước cho người khác không?'}, {'role': 'assistant', 'content': 'Có, chỉ cần nhập đúng mã khách hàng hoặc thông tin hóa đơn của người đó trong mục \"Thanh toán hóa đơn\".'}], [{'role': 'system', 'content': \"You are an assistant for question-answering tasks.Use the following pieces of retrieved context to answer the question.If there's no related context, just answer with your base knowledge.Use three sentences maximum and keep the answer concise.\"}, {'role': 'user', 'content': 'Làm thế nào để kiểm tra xem thẻ của tôi có bị mất không?'}, {'role': 'assistant', 'content': 'Nếu nghi ngờ thẻ bị mất, bạn có thể kiểm tra trạng thái thẻ trong mục \"Quản lý thẻ\" hoặc gọi đến tổng đài hỗ trợ để xác minh và yêu cầu khóa thẻ tạm thời nếu cần.'}], [{'role': 'system', 'content': \"You are an assistant for question-answering tasks.Use the following pieces of retrieved context to answer the question.If there's no related context, just answer with your base knowledge.Use three sentences maximum and keep the answer concise.\"}, {'role': 'user', 'content': 'Tôi có thể sử dụng ứng dụng mà không cần đăng ký không?'}, {'role': 'assistant', 'content': 'Tùy ứng dụng. Một số tính năng cơ bản có thể không yêu cầu đăng ký, nhưng để truy cập đầy đủ chức năng (như lưu dữ liệu, cá nhân hóa), bạn cần đăng ký tài khoản.'}], [{'role': 'system', 'content': \"You are an assistant for question-answering tasks.Use the following pieces of retrieved context to answer the question.If there's no related context, just answer with your base knowledge.Use three sentences maximum and keep the answer concise.\"}, {'role': 'user', 'content': 'Tôi có thể rút bao nhiêu tiền từ sổ tiết kiệm?'}, {'role': 'assistant', 'content': 'Số tiền rút phụ thuộc vào số dư trong sổ tiết kiệm và các điều khoản của ngân hàng. Một số sổ tiết kiệm yêu cầu tất toán toàn bộ số dư.'}], [{'role': 'system', 'content': \"You are an assistant for question-answering tasks.Use the following pieces of retrieved context to answer the question.If there's no related context, just answer with your base knowledge.Use three sentences maximum and keep the answer concise.\"}, {'role': 'user', 'content': 'Nếu tôi không thấy giao dịch nào, có phải là có lỗi không?'}, {'role': 'assistant', 'content': 'Không hẳn, có thể không có giao dịch nào trong khoảng thời gian bạn chọn. Kiểm tra lại bộ lọc thời gian hoặc liên hệ hỗ trợ nếu nghi ngờ lỗi hệ thống.'}], [{'role': 'system', 'content': \"You are an assistant for question-answering tasks.Use the following pieces of retrieved context to answer the question.If there's no related context, just answer with your base knowledge.Use three sentences maximum and keep the answer concise.\"}, {'role': 'user', 'content': 'Có cách nào để xem thông tin chi tiết về thẻ không?'}, {'role': 'assistant', 'content': 'Có, bạn có thể xem chi tiết thẻ trong mục \"Quản lý thẻ\" hoặc \"Thông tin thẻ\". Một số chi tiết như số thẻ đầy đủ có thể bị ẩn để bảo mật.'}], [{'role': 'system', 'content': \"You are an assistant for question-answering tasks.Use the following pieces of retrieved context to answer the question.If there's no related context, just answer with your base knowledge.Use three sentences maximum and keep the answer concise.\"}, {'role': 'user', 'content': 'Có cần chọn ngân hàng trước khi nhập số tài khoản không?'}, {'role': 'assistant', 'content': 'Không bắt buộc, nhưng chọn ngân hàng trước có thể giúp hệ thống xác minh số tài khoản nhanh hơn.'}], [{'role': 'system', 'content': \"You are an assistant for question-answering tasks.Use the following pieces of retrieved context to answer the question.If there's no related context, just answer with your base knowledge.Use three sentences maximum and keep the answer concise.\"}, {'role': 'user', 'content': 'Làm thế nào để kiểm tra hạn mức khả dụng của thẻ?'}, {'role': 'assistant', 'content': 'Vào mục \"Chi tiết thẻ\" hoặc \"Hạn mức tín dụng\" trên ứng dụng hoặc website để xem hạn mức khả dụng, thường được cập nhật theo thời gian thực.'}], [{'role': 'system', 'content': \"You are an assistant for question-answering tasks.Use the following pieces of retrieved context to answer the question.If there's no related context, just answer with your base knowledge.Use three sentences maximum and keep the answer concise.\"}, {'role': 'user', 'content': 'Có cách nào để liên kết thẻ tín dụng không?'}, {'role': 'assistant', 'content': 'Có, bạn cần vào mục \"Liên kết thẻ\", chọn loại thẻ tín dụng và nhập thông tin thẻ như số thẻ, ngày hết hạn, mã CVV. Hệ thống có thể yêu cầu xác minh qua OTP.'}], [{'role': 'system', 'content': \"You are an assistant for question-answering tasks.Use the following pieces of retrieved context to answer the question.If there's no related context, just answer with your base knowledge.Use three sentences maximum and keep the answer concise.\"}, {'role': 'user', 'content': 'Nếu mã QR không quét được thì tôi phải làm gì?'}, {'role': 'assistant', 'content': 'Kiểm tra ánh sáng, đảm bảo mã QR không bị mờ hoặc hỏng. Nếu vẫn không được, bạn có thể nhập thông tin tài khoản nhận theo cách thủ công.'}], [{'role': 'system', 'content': \"You are an assistant for question-answering tasks.Use the following pieces of retrieved context to answer the question.If there's no related context, just answer with your base knowledge.Use three sentences maximum and keep the answer concise.\"}, {'role': 'user', 'content': 'Tôi có thể đăng ký tài khoản cho người khác không?'}, {'role': 'assistant', 'content': 'Không nên. Việc này có thể vi phạm chính sách bảo mật và thông tin cá nhân. Tốt nhất là để người đó tự đăng ký để đảm bảo quyền riêng tư và thông tin chính xác.'}], [{'role': 'system', 'content': \"You are an assistant for question-answering tasks.Use the following pieces of retrieved context to answer the question.If there's no related context, just answer with your base knowledge.Use three sentences maximum and keep the answer concise.\"}, {'role': 'user', 'content': 'Tôi có thể yêu cầu gửi lại mã OTP không?'}, {'role': 'assistant', 'content': 'Có, bạn thường có thể yêu cầu gửi lại mã OTP nếu mã trước đó hết hạn hoặc bạn không nhận được. Tùy hệ thống, yêu cầu này có thể giới hạn trong một khoảng thời gian.'}], [{'role': 'system', 'content': \"You are an assistant for question-answering tasks.Use the following pieces of retrieved context to answer the question.If there's no related context, just answer with your base knowledge.Use three sentences maximum and keep the answer concise.\"}, {'role': 'user', 'content': 'Làm thế nào để chọn thẻ muốn xem lịch sử giao dịch?'}, {'role': 'assistant', 'content': 'Trong mục \"Lịch sử giao dịch\", chọn thẻ từ danh sách thẻ liên kết hoặc sử dụng bộ lọc để chọn thẻ cụ thể.'}], [{'role': 'system', 'content': \"You are an assistant for question-answering tasks.Use the following pieces of retrieved context to answer the question.If there's no related context, just answer with your base knowledge.Use three sentences maximum and keep the answer concise.\"}, {'role': 'user', 'content': 'Tôi có thể xem lịch sử giao dịch của mình ở đâu?'}, {'role': 'assistant', 'content': 'Bạn có thể vào mục \"Lịch sử giao dịch\" hoặc \"Chi tiết tài khoản\" trong ứng dụng hoặc website để xem danh sách các giao dịch đã thực hiện.'}], [{'role': 'system', 'content': \"You are an assistant for question-answering tasks.Use the following pieces of retrieved context to answer the question.If there's no related context, just answer with your base knowledge.Use three sentences maximum and keep the answer concise.\"}, {'role': 'user', 'content': 'Tôi có thể đăng ký tài khoản bằng email không?'}, {'role': 'assistant', 'content': 'Có, hầu hết các ứng dụng cho phép đăng ký bằng email. Bạn sẽ cần xác minh email của mình bằng cách nhập mã xác nhận được gửi đến email đó.'}], [{'role': 'system', 'content': \"You are an assistant for question-answering tasks.Use the following pieces of retrieved context to answer the question.If there's no related context, just answer with your base knowledge.Use three sentences maximum and keep the answer concise.\"}, {'role': 'user', 'content': 'Làm thế nào để thêm tài khoản SacombankPay vào danh bạ thụ hưởng?'}, {'role': 'assistant', 'content': 'Vào mục \"Thêm người thụ hưởng\", nhập số tài khoản hoặc số điện thoại SacombankPay, xác nhận thông tin và lưu vào danh bạ thụ hưởng.'}], [{'role': 'system', 'content': \"You are an assistant for question-answering tasks.Use the following pieces of retrieved context to answer the question.If there's no related context, just answer with your base knowledge.Use three sentences maximum and keep the answer concise.\"}, {'role': 'user', 'content': 'Tôi có thể xem các giao dịch đã thực hiện trong năm nay không?'}, {'role': 'assistant', 'content': 'Có, bạn có thể lọc lịch sử giao dịch theo năm hiện tại trong ứng dụng hoặc website để xem tất cả giao dịch trong khoảng thời gian này.'}], [{'role': 'system', 'content': \"You are an assistant for question-answering tasks.Use the following pieces of retrieved context to answer the question.If there's no related context, just answer with your base knowledge.Use three sentences maximum and keep the answer concise.\"}, {'role': 'user', 'content': 'Tôi có thể thay đổi mật khẩu ngay sau khi đăng nhập không?'}, {'role': 'assistant', 'content': 'Có, sau khi đăng nhập thành công, bạn có thể vào phần \"Cài đặt tài khoản\" và chọn \"Đổi mật khẩu\" để thay đổi bất cứ lúc nào. Hệ thống sẽ yêu cầu nhập mật khẩu hiện tại.'}], [{'role': 'system', 'content': \"You are an assistant for question-answering tasks.Use the following pieces of retrieved context to answer the question.If there's no related context, just answer with your base knowledge.Use three sentences maximum and keep the answer concise.\"}, {'role': 'user', 'content': 'Có cần nhập thông tin khách hàng không?'}, {'role': 'assistant', 'content': 'Có, bạn cần nhập thông tin như tên, số điện thoại và CMND/CCCD (nếu yêu cầu) để hoàn tất việc đặt vé.'}], [{'role': 'system', 'content': \"You are an assistant for question-answering tasks.Use the following pieces of retrieved context to answer the question.If there's no related context, just answer with your base knowledge.Use three sentences maximum and keep the answer concise.\"}, {'role': 'user', 'content': 'Làm thế nào để cài đặt thẻ mặc định cho thanh toán?'}, {'role': 'assistant', 'content': 'Truy cập mục \"Quản lý thẻ\", chọn thẻ bạn muốn đặt mặc định, sau đó nhấn vào \"Cài đặt làm thẻ mặc định\" hoặc tùy chọn tương tự.'}], [{'role': 'system', 'content': \"You are an assistant for question-answering tasks.Use the following pieces of retrieved context to answer the question.If there's no related context, just answer with your base knowledge.Use three sentences maximum and keep the answer concise.\"}, {'role': 'user', 'content': 'Làm thế nào để cập nhật thông tin thẻ khi thay đổi?'}, {'role': 'assistant', 'content': 'Bạn có thể vào mục \"Quản lý thẻ\", chọn thẻ cần cập nhật và chỉnh sửa thông tin như địa chỉ thanh toán hoặc ngày hết hạn. Một số thông tin có thể yêu cầu xác minh bổ sung.'}], [{'role': 'system', 'content': \"You are an assistant for question-answering tasks.Use the following pieces of retrieved context to answer the question.If there's no related context, just answer with your base knowledge.Use three sentences maximum and keep the answer concise.\"}, {'role': 'user', 'content': 'Làm thế nào để biết được số dư tài khoản sau khi rút tiền?'}, {'role': 'assistant', 'content': 'Sau khi rút tiền, bạn có thể kiểm tra mục \"Số dư tài khoản\" trong ứng dụng. Số dư sẽ được cập nhật ngay sau khi giao dịch hoàn tất.'}], [{'role': 'system', 'content': \"You are an assistant for question-answering tasks.Use the following pieces of retrieved context to answer the question.If there's no related context, just answer with your base knowledge.Use three sentences maximum and keep the answer concise.\"}, {'role': 'user', 'content': 'Làm thế nào để biết được thời gian giao dịch đã thực hiện?'}, {'role': 'assistant', 'content': 'Bạn có thể vào mục \"Lịch sử giao dịch\", mỗi giao dịch sẽ đi kèm thời gian thực hiện chính xác (ngày, giờ) trong phần chi tiết.'}], [{'role': 'system', 'content': \"You are an assistant for question-answering tasks.Use the following pieces of retrieved context to answer the question.If there's no related context, just answer with your base knowledge.Use three sentences maximum and keep the answer concise.\"}, {'role': 'user', 'content': 'Làm thế nào để kiểm tra xem thẻ của tôi có còn hiệu lực không?'}, {'role': 'assistant', 'content': 'Xem ngày hết hạn trên mặt trước thẻ. Ngoài ra, bạn có thể kiểm tra trong ứng dụng hoặc liên hệ ngân hàng phát hành để xác minh hiệu lực.'}], [{'role': 'system', 'content': \"You are an assistant for question-answering tasks.Use the following pieces of retrieved context to answer the question.If there's no related context, just answer with your base knowledge.Use three sentences maximum and keep the answer concise.\"}, {'role': 'user', 'content': 'Mật khẩu của tôi cần đáp ứng yêu cầu gì?'}, {'role': 'assistant', 'content': 'Mật khẩu cần tối thiểu 8 ký tự và bao gồm ít nhất: 1 chữ hoa, 1 chữ thường, 1 số, và 1 ký tự đặc biệt (ví dụ: @, #, $). Điều này giúp bảo mật tài khoản tốt hơn.'}], [{'role': 'system', 'content': \"You are an assistant for question-answering tasks.Use the following pieces of retrieved context to answer the question.If there's no related context, just answer with your base knowledge.Use three sentences maximum and keep the answer concise.\"}, {'role': 'user', 'content': 'Nếu tôi không nhận được thông báo liên kết thành công thì sao?'}, {'role': 'assistant', 'content': 'Kiểm tra kết nối mạng và thử lại. Nếu vẫn không thành công, liên hệ bộ phận hỗ trợ khách hàng để kiểm tra trạng thái liên kết.'}], [{'role': 'system', 'content': \"You are an assistant for question-answering tasks.Use the following pieces of retrieved context to answer the question.If there's no related context, just answer with your base knowledge.Use three sentences maximum and keep the answer concise.\"}, {'role': 'user', 'content': 'Làm thế nào để tắt thanh toán hóa đơn tự động?'}, {'role': 'assistant', 'content': 'Vào mục \"Quản lý hóa đơn\", chọn hóa đơn cần tắt, sau đó tắt tùy chọn \"Thanh toán tự động\".'}], [{'role': 'system', 'content': \"You are an assistant for question-answering tasks.Use the following pieces of retrieved context to answer the question.If there's no related context, just answer with your base knowledge.Use three sentences maximum and keep the answer concise.\"}, {'role': 'user', 'content': 'Làm thế nào để thay đổi thông tin cá nhân liên quan đến thẻ?'}, {'role': 'assistant', 'content': 'Vào mục \"Quản lý thẻ\" hoặc \"Thông tin cá nhân\", chọn thẻ cần chỉnh sửa và cập nhật thông tin như địa chỉ thanh toán, số điện thoại liên hệ nếu được phép.'}], [{'role': 'system', 'content': \"You are an assistant for question-answering tasks.Use the following pieces of retrieved context to answer the question.If there's no related context, just answer with your base knowledge.Use three sentences maximum and keep the answer concise.\"}, {'role': 'user', 'content': 'Làm thế nào để thanh toán dự nợ thẻ tín dụng qua app?'}, {'role': 'assistant', 'content': 'Vào mục \"Dịch vụ thẻ\", chọn \"Thanh toán dự nợ\", nhập số tiền muốn thanh toán và xác nhận giao dịch. Tiền sẽ được trừ từ tài khoản nguồn đã chọn.'}], [{'role': 'system', 'content': \"You are an assistant for question-answering tasks.Use the following pieces of retrieved context to answer the question.If there's no related context, just answer with your base knowledge.Use three sentences maximum and keep the answer concise.\"}, {'role': 'user', 'content': 'Làm thế nào để thêm số tài khoản vào danh bạ thụ hưởng?'}, {'role': 'assistant', 'content': 'Vào mục \"Thêm người thụ hưởng\", nhập số tài khoản, tên ngân hàng và thông tin cần thiết, sau đó xác nhận để lưu vào danh bạ.'}], [{'role': 'system', 'content': \"You are an assistant for question-answering tasks.Use the following pieces of retrieved context to answer the question.If there's no related context, just answer with your base knowledge.Use three sentences maximum and keep the answer concise.\"}, {'role': 'user', 'content': 'Làm thế nào để liên kết tài khoản ngân hàng với thẻ?'}, {'role': 'assistant', 'content': 'Bạn vào mục \"Liên kết tài khoản\", chọn ngân hàng cần liên kết và nhập thông tin tài khoản ngân hàng theo hướng dẫn. Hệ thống sẽ yêu cầu xác minh qua OTP hoặc thông tin cá nhân.'}], [{'role': 'system', 'content': \"You are an assistant for question-answering tasks.Use the following pieces of retrieved context to answer the question.If there's no related context, just answer with your base knowledge.Use three sentences maximum and keep the answer concise.\"}, {'role': 'user', 'content': 'Tôi cần làm gì để chọn vé tàu?'}, {'role': 'assistant', 'content': 'Vào mục \"Đặt vé tàu\", nhập ga đi, ga đến, ngày đi và chọn chuyến tàu phù hợp. Bạn có thể chọn ghế ngồi hoặc giường nằm tùy theo nhu cầu.'}], [{'role': 'system', 'content': \"You are an assistant for question-answering tasks.Use the following pieces of retrieved context to answer the question.If there's no related context, just answer with your base knowledge.Use three sentences maximum and keep the answer concise.\"}, {'role': 'user', 'content': 'Có thông tin gì cần lưu ý khi thanh toán bảo hiểm không?'}, {'role': 'assistant', 'content': 'Kiểm tra kỹ mã hợp đồng, số tiền phải thanh toán, và hạn thanh toán để tránh trễ hạn. Bạn nên lưu lại biên lai sau khi giao dịch thành công.'}], [{'role': 'system', 'content': \"You are an assistant for question-answering tasks.Use the following pieces of retrieved context to answer the question.If there's no related context, just answer with your base knowledge.Use three sentences maximum and keep the answer concise.\"}, {'role': 'user', 'content': 'Mật khẩu mới của tôi cần đáp ứng yêu cầu gì?'}, {'role': 'assistant', 'content': 'Tương tự như khi tạo mật khẩu ban đầu: tối thiểu 8 ký tự, bao gồm chữ hoa, chữ thường, số, và ký tự đặc biệt để đảm bảo an toàn.'}], [{'role': 'system', 'content': \"You are an assistant for question-answering tasks.Use the following pieces of retrieved context to answer the question.If there's no related context, just answer with your base knowledge.Use three sentences maximum and keep the answer concise.\"}, {'role': 'user', 'content': 'Làm thế nào để chọn chỗ ngồi trên xe?'}, {'role': 'assistant', 'content': 'Khi đặt vé, hệ thống thường hiển thị sơ đồ chỗ ngồi. Bạn có thể chọn chỗ ngồi còn trống theo ý muốn trước khi xác nhận đặt vé.'}], [{'role': 'system', 'content': \"You are an assistant for question-answering tasks.Use the following pieces of retrieved context to answer the question.If there's no related context, just answer with your base knowledge.Use three sentences maximum and keep the answer concise.\"}, {'role': 'user', 'content': 'Có cần nhập mã xác nhận khi nạp thẻ không?'}, {'role': 'assistant', 'content': 'Có, bạn cần nhập mã OTP hoặc mã PIN để xác nhận giao dịch, đảm bảo tính an toàn.'}], [{'role': 'system', 'content': \"You are an assistant for question-answering tasks.Use the following pieces of retrieved context to answer the question.If there's no related context, just answer with your base knowledge.Use three sentences maximum and keep the answer concise.\"}, {'role': 'user', 'content': 'Làm thế nào để biết tài khoản đã được tạo thành công?'}, {'role': 'assistant', 'content': 'Sau khi đăng ký, bạn thường nhận được thông báo trên màn hình hoặc email xác nhận rằng tài khoản của bạn đã được tạo thành công.'}], [{'role': 'system', 'content': \"You are an assistant for question-answering tasks.Use the following pieces of retrieved context to answer the question.If there's no related context, just answer with your base knowledge.Use three sentences maximum and keep the answer concise.\"}, {'role': 'user', 'content': 'Tôi có thể xem hạn mức rút tiền hàng ngày không?'}, {'role': 'assistant', 'content': 'Có, bạn có thể kiểm tra trong mục \"Hạn mức thẻ\" hoặc \"Chi tiết thẻ\" trên ứng dụng. Thông tin này cũng có thể được cung cấp trong hợp đồng thẻ hoặc liên hệ tổng đài hỗ trợ.'}], [{'role': 'system', 'content': \"You are an assistant for question-answering tasks.Use the following pieces of retrieved context to answer the question.If there's no related context, just answer with your base knowledge.Use three sentences maximum and keep the answer concise.\"}, {'role': 'user', 'content': 'Tôi phải nhập những thông tin gì khi chuyển tiền?'}, {'role': 'assistant', 'content': 'Thông tin bao gồm: số tài khoản người nhận, ngân hàng nhận, số tiền muốn chuyển, và nội dung chuyển tiền (nếu cần).'}], [{'role': 'system', 'content': \"You are an assistant for question-answering tasks.Use the following pieces of retrieved context to answer the question.If there's no related context, just answer with your base knowledge.Use three sentences maximum and keep the answer concise.\"}, {'role': 'user', 'content': 'Làm thế nào để biết nạp thẻ thành công?'}, {'role': 'assistant', 'content': 'Sau khi nạp, bạn sẽ nhận được thông báo \"Nạp tiền thành công\". Số tiền nạp cũng được hiển thị trong lịch sử giao dịch.'}], [{'role': 'system', 'content': \"You are an assistant for question-answering tasks.Use the following pieces of retrieved context to answer the question.If there's no related context, just answer with your base knowledge.Use three sentences maximum and keep the answer concise.\"}, {'role': 'user', 'content': 'Tôi có thể quay lại trang chủ sau khi đăng ký không?'}, {'role': 'assistant', 'content': 'Có, sau khi hoàn tất đăng ký, bạn có thể nhấn vào nút \"Trang chủ\" hoặc logo của ứng dụng để quay lại trang chủ.'}], [{'role': 'system', 'content': \"You are an assistant for question-answering tasks.Use the following pieces of retrieved context to answer the question.If there's no related context, just answer with your base knowledge.Use three sentences maximum and keep the answer concise.\"}, {'role': 'user', 'content': 'Làm thế nào để cài đặt hình thẻ của tôi?'}, {'role': 'assistant', 'content': 'Vào mục \"Cài đặt thẻ\" hoặc \"Quản lý thẻ\", chọn tùy chọn thay đổi ảnh hoặc cá nhân hóa thẻ (nếu được hỗ trợ). Bạn có thể tải ảnh từ thư viện hoặc chụp ảnh mới.'}], [{'role': 'system', 'content': \"You are an assistant for question-answering tasks.Use the following pieces of retrieved context to answer the question.If there's no related context, just answer with your base knowledge.Use three sentences maximum and keep the answer concise.\"}, {'role': 'user', 'content': 'Tôi có thể cài đặt nhiều thẻ mặc định không?'}, {'role': 'assistant', 'content': 'Không, hệ thống thường chỉ cho phép cài đặt một thẻ làm mặc định cho mỗi loại giao dịch (như thanh toán hoặc rút tiền). Bạn có thể thay đổi thẻ mặc định bất kỳ lúc nào.'}], [{'role': 'system', 'content': \"You are an assistant for question-answering tasks.Use the following pieces of retrieved context to answer the question.If there's no related context, just answer with your base knowledge.Use three sentences maximum and keep the answer concise.\"}, {'role': 'user', 'content': 'Có thể xem số dư tài khoản trong thời gian thực không?'}, {'role': 'assistant', 'content': 'Có, số dư tài khoản trong ứng dụng thường được cập nhật theo thời gian thực. Tuy nhiên, một số giao dịch có thể cần thời gian xử lý trước khi hiển thị.'}], [{'role': 'system', 'content': \"You are an assistant for question-answering tasks.Use the following pieces of retrieved context to answer the question.If there's no related context, just answer with your base knowledge.Use three sentences maximum and keep the answer concise.\"}, {'role': 'user', 'content': 'Làm thế nào để biết được số dư tài khoản sau khi giao dịch?'}, {'role': 'assistant', 'content': 'Sau khi giao dịch, bạn có thể kiểm tra trong mục \"Lịch sử giao dịch\" hoặc \"Tài khoản\" trên ứng dụng, nơi sẽ hiển thị số dư sau khi giao dịch hoàn tất.'}], [{'role': 'system', 'content': \"You are an assistant for question-answering tasks.Use the following pieces of retrieved context to answer the question.If there's no related context, just answer with your base knowledge.Use three sentences maximum and keep the answer concise.\"}, {'role': 'user', 'content': 'Làm thế nào để kiểm tra danh sách tài khoản đã lưu?'}, {'role': 'assistant', 'content': 'Vào mục \"Danh sách tài khoản\" trong ứng dụng để xem tất cả tài khoản đã lưu, bao gồm tài khoản ngân hàng và SacombankPay.'}], [{'role': 'system', 'content': \"You are an assistant for question-answering tasks.Use the following pieces of retrieved context to answer the question.If there's no related context, just answer with your base knowledge.Use three sentences maximum and keep the answer concise.\"}, {'role': 'user', 'content': 'Làm thế nào để biết có vé trống không?'}, {'role': 'assistant', 'content': 'Khi chọn suất chiếu hoặc chuyến đi, hệ thống sẽ hiển thị các chỗ trống có sẵn để bạn chọn. Nếu không có chỗ, thông báo sẽ được hiển thị.'}], [{'role': 'system', 'content': \"You are an assistant for question-answering tasks.Use the following pieces of retrieved context to answer the question.If there's no related context, just answer with your base knowledge.Use three sentences maximum and keep the answer concise.\"}, {'role': 'user', 'content': 'Tôi có thể đặt vé máy bay từ đâu?'}, {'role': 'assistant', 'content': 'Truy cập mục \"Đặt vé máy bay\" trong ứng dụng, nhập thông tin điểm đi, điểm đến, ngày bay, và chọn chuyến bay phù hợp để tiến hành đặt vé.'}], [{'role': 'system', 'content': \"You are an assistant for question-answering tasks.Use the following pieces of retrieved context to answer the question.If there's no related context, just answer with your base knowledge.Use three sentences maximum and keep the answer concise.\"}, {'role': 'user', 'content': 'Tôi có thể tất toán sổ tiết kiệm mà không cần đến ngân hàng không?'}, {'role': 'assistant', 'content': 'Có, bạn có thể tất toán sổ tiết kiệm trực tiếp trên ứng dụng nếu tài khoản ngân hàng của bạn được liên kết.'}], [{'role': 'system', 'content': \"You are an assistant for question-answering tasks.Use the following pieces of retrieved context to answer the question.If there's no related context, just answer with your base knowledge.Use three sentences maximum and keep the answer concise.\"}, {'role': 'user', 'content': 'Làm thế nào để kiểm tra hạn mức chi tiêu hàng tháng?'}, {'role': 'assistant', 'content': 'Vào mục \"Hạn mức thẻ\" hoặc \"Quản lý chi tiêu\" trong ứng dụng hoặc website để xem thông tin chi tiết về hạn mức chi tiêu còn lại trong tháng.'}], [{'role': 'system', 'content': \"You are an assistant for question-answering tasks.Use the following pieces of retrieved context to answer the question.If there's no related context, just answer with your base knowledge.Use three sentences maximum and keep the answer concise.\"}, {'role': 'user', 'content': 'Làm thế nào để thêm số thẻ vào danh bạ thụ hưởng?'}, {'role': 'assistant', 'content': 'Vào mục \"Thêm người thụ hưởng\", chọn \"Thẻ\", nhập số thẻ và thông tin liên quan, sau đó xác nhận để lưu.'}], [{'role': 'system', 'content': \"You are an assistant for question-answering tasks.Use the following pieces of retrieved context to answer the question.If there's no related context, just answer with your base knowledge.Use three sentences maximum and keep the answer concise.\"}, {'role': 'user', 'content': 'Có cách nào để xem các giao dịch gần đây không?'}, {'role': 'assistant', 'content': 'Có, trong mục \"Lịch sử giao dịch\", bạn thường thấy các giao dịch gần nhất được hiển thị ở đầu danh sách.'}], [{'role': 'system', 'content': \"You are an assistant for question-answering tasks.Use the following pieces of retrieved context to answer the question.If there's no related context, just answer with your base knowledge.Use three sentences maximum and keep the answer concise.\"}, {'role': 'user', 'content': 'Có cần phải nhập mã PIN khi liên kết thẻ không?'}, {'role': 'assistant', 'content': 'Không, thông thường bạn chỉ cần thông tin thẻ và mã OTP để liên kết. Mã PIN thường được sử dụng cho giao dịch rút tiền hoặc thanh toán trực tiếp.'}], [{'role': 'system', 'content': \"You are an assistant for question-answering tasks.Use the following pieces of retrieved context to answer the question.If there's no related context, just answer with your base knowledge.Use three sentences maximum and keep the answer concise.\"}, {'role': 'user', 'content': 'Tôi có thể thay đổi thẻ mặc định cho rút tiền không?'}, {'role': 'assistant', 'content': 'Có, bạn cần vào mục \"Quản lý thẻ\" hoặc \"Cài đặt thanh toán\", chọn thẻ mới và đặt làm mặc định cho việc rút tiền.'}], [{'role': 'system', 'content': \"You are an assistant for question-answering tasks.Use the following pieces of retrieved context to answer the question.If there's no related context, just answer with your base knowledge.Use three sentences maximum and keep the answer concise.\"}, {'role': 'user', 'content': 'Có thể chuyển tiền mà không cần xác thực mConnect không?'}, {'role': 'assistant', 'content': 'Không, để đảm bảo an toàn, các giao dịch chuyển tiền thường yêu cầu xác thực bằng OTP, mConnect, hoặc mã PIN.'}]]\n"
     ]
    }
   ],
   "source": [
    "print(split_datasets['train']['messages'])"
   ]
  },
  {
   "cell_type": "markdown",
   "metadata": {},
   "source": [
    "# MODEL"
   ]
  },
  {
   "cell_type": "code",
   "execution_count": 23,
   "metadata": {},
   "outputs": [
    {
     "name": "stderr",
     "output_type": "stream",
     "text": [
      "`low_cpu_mem_usage` was None, now default to True since model is quantized.\n",
      "Sliding Window Attention is enabled but not implemented for `sdpa`; unexpected results may be encountered.\n"
     ]
    },
    {
     "ename": "RuntimeError",
     "evalue": "CUDA error: CUDA-capable device(s) is/are busy or unavailable\nCUDA kernel errors might be asynchronously reported at some other API call, so the stacktrace below might be incorrect.\nFor debugging consider passing CUDA_LAUNCH_BLOCKING=1\nCompile with `TORCH_USE_CUDA_DSA` to enable device-side assertions.\n",
     "output_type": "error",
     "traceback": [
      "\u001b[0;31m---------------------------------------------------------------------------\u001b[0m",
      "\u001b[0;31mRuntimeError\u001b[0m                              Traceback (most recent call last)",
      "Cell \u001b[0;32mIn[23], line 5\u001b[0m\n\u001b[1;32m      1\u001b[0m \u001b[38;5;28;01mfrom\u001b[39;00m\u001b[38;5;250m \u001b[39m\u001b[38;5;21;01mtransformers\u001b[39;00m\u001b[38;5;250m \u001b[39m\u001b[38;5;28;01mimport\u001b[39;00m AutoModelForCausalLM, BitsAndBytesConfig\n\u001b[1;32m      3\u001b[0m quantization_config \u001b[38;5;241m=\u001b[39m BitsAndBytesConfig(load_in_8bit\u001b[38;5;241m=\u001b[39m\u001b[38;5;28;01mTrue\u001b[39;00m)\n\u001b[0;32m----> 5\u001b[0m model \u001b[38;5;241m=\u001b[39m \u001b[43mAutoModelForCausalLM\u001b[49m\u001b[38;5;241;43m.\u001b[39;49m\u001b[43mfrom_pretrained\u001b[49m\u001b[43m(\u001b[49m\u001b[43mmodel_name\u001b[49m\u001b[43m,\u001b[49m\u001b[43m \u001b[49m\n\u001b[1;32m      6\u001b[0m \u001b[43m                                             \u001b[49m\u001b[43mquantization_config\u001b[49m\u001b[38;5;241;43m=\u001b[39;49m\u001b[43mquantization_config\u001b[49m\u001b[43m,\u001b[49m\u001b[43m \u001b[49m\n\u001b[1;32m      7\u001b[0m \u001b[43m                                             \u001b[49m\u001b[43mtorch_dtype\u001b[49m\u001b[38;5;241;43m=\u001b[39;49m\u001b[38;5;124;43m\"\u001b[39;49m\u001b[38;5;124;43mauto\u001b[39;49m\u001b[38;5;124;43m\"\u001b[39;49m\u001b[43m)\u001b[49m \n",
      "File \u001b[0;32m~/miniconda3/envs/llm/lib/python3.12/site-packages/transformers/models/auto/auto_factory.py:564\u001b[0m, in \u001b[0;36m_BaseAutoModelClass.from_pretrained\u001b[0;34m(cls, pretrained_model_name_or_path, *model_args, **kwargs)\u001b[0m\n\u001b[1;32m    562\u001b[0m \u001b[38;5;28;01melif\u001b[39;00m \u001b[38;5;28mtype\u001b[39m(config) \u001b[38;5;129;01min\u001b[39;00m \u001b[38;5;28mcls\u001b[39m\u001b[38;5;241m.\u001b[39m_model_mapping\u001b[38;5;241m.\u001b[39mkeys():\n\u001b[1;32m    563\u001b[0m     model_class \u001b[38;5;241m=\u001b[39m _get_model_class(config, \u001b[38;5;28mcls\u001b[39m\u001b[38;5;241m.\u001b[39m_model_mapping)\n\u001b[0;32m--> 564\u001b[0m     \u001b[38;5;28;01mreturn\u001b[39;00m \u001b[43mmodel_class\u001b[49m\u001b[38;5;241;43m.\u001b[39;49m\u001b[43mfrom_pretrained\u001b[49m\u001b[43m(\u001b[49m\n\u001b[1;32m    565\u001b[0m \u001b[43m        \u001b[49m\u001b[43mpretrained_model_name_or_path\u001b[49m\u001b[43m,\u001b[49m\u001b[43m \u001b[49m\u001b[38;5;241;43m*\u001b[39;49m\u001b[43mmodel_args\u001b[49m\u001b[43m,\u001b[49m\u001b[43m \u001b[49m\u001b[43mconfig\u001b[49m\u001b[38;5;241;43m=\u001b[39;49m\u001b[43mconfig\u001b[49m\u001b[43m,\u001b[49m\u001b[43m \u001b[49m\u001b[38;5;241;43m*\u001b[39;49m\u001b[38;5;241;43m*\u001b[39;49m\u001b[43mhub_kwargs\u001b[49m\u001b[43m,\u001b[49m\u001b[43m \u001b[49m\u001b[38;5;241;43m*\u001b[39;49m\u001b[38;5;241;43m*\u001b[39;49m\u001b[43mkwargs\u001b[49m\n\u001b[1;32m    566\u001b[0m \u001b[43m    \u001b[49m\u001b[43m)\u001b[49m\n\u001b[1;32m    567\u001b[0m \u001b[38;5;28;01mraise\u001b[39;00m \u001b[38;5;167;01mValueError\u001b[39;00m(\n\u001b[1;32m    568\u001b[0m     \u001b[38;5;124mf\u001b[39m\u001b[38;5;124m\"\u001b[39m\u001b[38;5;124mUnrecognized configuration class \u001b[39m\u001b[38;5;132;01m{\u001b[39;00mconfig\u001b[38;5;241m.\u001b[39m\u001b[38;5;18m__class__\u001b[39m\u001b[38;5;132;01m}\u001b[39;00m\u001b[38;5;124m for this kind of AutoModel: \u001b[39m\u001b[38;5;132;01m{\u001b[39;00m\u001b[38;5;28mcls\u001b[39m\u001b[38;5;241m.\u001b[39m\u001b[38;5;18m__name__\u001b[39m\u001b[38;5;132;01m}\u001b[39;00m\u001b[38;5;124m.\u001b[39m\u001b[38;5;130;01m\\n\u001b[39;00m\u001b[38;5;124m\"\u001b[39m\n\u001b[1;32m    569\u001b[0m     \u001b[38;5;124mf\u001b[39m\u001b[38;5;124m\"\u001b[39m\u001b[38;5;124mModel type should be one of \u001b[39m\u001b[38;5;132;01m{\u001b[39;00m\u001b[38;5;124m'\u001b[39m\u001b[38;5;124m, \u001b[39m\u001b[38;5;124m'\u001b[39m\u001b[38;5;241m.\u001b[39mjoin(c\u001b[38;5;241m.\u001b[39m\u001b[38;5;18m__name__\u001b[39m\u001b[38;5;250m \u001b[39m\u001b[38;5;28;01mfor\u001b[39;00m\u001b[38;5;250m \u001b[39mc\u001b[38;5;250m \u001b[39m\u001b[38;5;129;01min\u001b[39;00m\u001b[38;5;250m \u001b[39m\u001b[38;5;28mcls\u001b[39m\u001b[38;5;241m.\u001b[39m_model_mapping\u001b[38;5;241m.\u001b[39mkeys())\u001b[38;5;132;01m}\u001b[39;00m\u001b[38;5;124m.\u001b[39m\u001b[38;5;124m\"\u001b[39m\n\u001b[1;32m    570\u001b[0m )\n",
      "File \u001b[0;32m~/miniconda3/envs/llm/lib/python3.12/site-packages/transformers/modeling_utils.py:262\u001b[0m, in \u001b[0;36mrestore_default_torch_dtype.<locals>._wrapper\u001b[0;34m(*args, **kwargs)\u001b[0m\n\u001b[1;32m    260\u001b[0m old_dtype \u001b[38;5;241m=\u001b[39m torch\u001b[38;5;241m.\u001b[39mget_default_dtype()\n\u001b[1;32m    261\u001b[0m \u001b[38;5;28;01mtry\u001b[39;00m:\n\u001b[0;32m--> 262\u001b[0m     \u001b[38;5;28;01mreturn\u001b[39;00m \u001b[43mfunc\u001b[49m\u001b[43m(\u001b[49m\u001b[38;5;241;43m*\u001b[39;49m\u001b[43margs\u001b[49m\u001b[43m,\u001b[49m\u001b[43m \u001b[49m\u001b[38;5;241;43m*\u001b[39;49m\u001b[38;5;241;43m*\u001b[39;49m\u001b[43mkwargs\u001b[49m\u001b[43m)\u001b[49m\n\u001b[1;32m    263\u001b[0m \u001b[38;5;28;01mfinally\u001b[39;00m:\n\u001b[1;32m    264\u001b[0m     torch\u001b[38;5;241m.\u001b[39mset_default_dtype(old_dtype)\n",
      "File \u001b[0;32m~/miniconda3/envs/llm/lib/python3.12/site-packages/transformers/modeling_utils.py:4319\u001b[0m, in \u001b[0;36mPreTrainedModel.from_pretrained\u001b[0;34m(cls, pretrained_model_name_or_path, config, cache_dir, ignore_mismatched_sizes, force_download, local_files_only, token, revision, use_safetensors, weights_only, *model_args, **kwargs)\u001b[0m\n\u001b[1;32m   4309\u001b[0m     \u001b[38;5;28;01mif\u001b[39;00m dtype_orig \u001b[38;5;129;01mis\u001b[39;00m \u001b[38;5;129;01mnot\u001b[39;00m \u001b[38;5;28;01mNone\u001b[39;00m:\n\u001b[1;32m   4310\u001b[0m         torch\u001b[38;5;241m.\u001b[39mset_default_dtype(dtype_orig)\n\u001b[1;32m   4312\u001b[0m     (\n\u001b[1;32m   4313\u001b[0m         model,\n\u001b[1;32m   4314\u001b[0m         missing_keys,\n\u001b[1;32m   4315\u001b[0m         unexpected_keys,\n\u001b[1;32m   4316\u001b[0m         mismatched_keys,\n\u001b[1;32m   4317\u001b[0m         offload_index,\n\u001b[1;32m   4318\u001b[0m         error_msgs,\n\u001b[0;32m-> 4319\u001b[0m     ) \u001b[38;5;241m=\u001b[39m \u001b[38;5;28;43mcls\u001b[39;49m\u001b[38;5;241;43m.\u001b[39;49m\u001b[43m_load_pretrained_model\u001b[49m\u001b[43m(\u001b[49m\n\u001b[1;32m   4320\u001b[0m \u001b[43m        \u001b[49m\u001b[43mmodel\u001b[49m\u001b[43m,\u001b[49m\n\u001b[1;32m   4321\u001b[0m \u001b[43m        \u001b[49m\u001b[43mstate_dict\u001b[49m\u001b[43m,\u001b[49m\n\u001b[1;32m   4322\u001b[0m \u001b[43m        \u001b[49m\u001b[43mloaded_state_dict_keys\u001b[49m\u001b[43m,\u001b[49m\u001b[43m  \u001b[49m\u001b[38;5;66;43;03m# XXX: rename?\u001b[39;49;00m\n\u001b[1;32m   4323\u001b[0m \u001b[43m        \u001b[49m\u001b[43mresolved_archive_file\u001b[49m\u001b[43m,\u001b[49m\n\u001b[1;32m   4324\u001b[0m \u001b[43m        \u001b[49m\u001b[43mpretrained_model_name_or_path\u001b[49m\u001b[43m,\u001b[49m\n\u001b[1;32m   4325\u001b[0m \u001b[43m        \u001b[49m\u001b[43mignore_mismatched_sizes\u001b[49m\u001b[38;5;241;43m=\u001b[39;49m\u001b[43mignore_mismatched_sizes\u001b[49m\u001b[43m,\u001b[49m\n\u001b[1;32m   4326\u001b[0m \u001b[43m        \u001b[49m\u001b[43msharded_metadata\u001b[49m\u001b[38;5;241;43m=\u001b[39;49m\u001b[43msharded_metadata\u001b[49m\u001b[43m,\u001b[49m\n\u001b[1;32m   4327\u001b[0m \u001b[43m        \u001b[49m\u001b[43m_fast_init\u001b[49m\u001b[38;5;241;43m=\u001b[39;49m\u001b[43m_fast_init\u001b[49m\u001b[43m,\u001b[49m\n\u001b[1;32m   4328\u001b[0m \u001b[43m        \u001b[49m\u001b[43mlow_cpu_mem_usage\u001b[49m\u001b[38;5;241;43m=\u001b[39;49m\u001b[43mlow_cpu_mem_usage\u001b[49m\u001b[43m,\u001b[49m\n\u001b[1;32m   4329\u001b[0m \u001b[43m        \u001b[49m\u001b[43mdevice_map\u001b[49m\u001b[38;5;241;43m=\u001b[39;49m\u001b[43mdevice_map\u001b[49m\u001b[43m,\u001b[49m\n\u001b[1;32m   4330\u001b[0m \u001b[43m        \u001b[49m\u001b[43moffload_folder\u001b[49m\u001b[38;5;241;43m=\u001b[39;49m\u001b[43moffload_folder\u001b[49m\u001b[43m,\u001b[49m\n\u001b[1;32m   4331\u001b[0m \u001b[43m        \u001b[49m\u001b[43moffload_state_dict\u001b[49m\u001b[38;5;241;43m=\u001b[39;49m\u001b[43moffload_state_dict\u001b[49m\u001b[43m,\u001b[49m\n\u001b[1;32m   4332\u001b[0m \u001b[43m        \u001b[49m\u001b[43mdtype\u001b[49m\u001b[38;5;241;43m=\u001b[39;49m\u001b[43mtorch_dtype\u001b[49m\u001b[43m,\u001b[49m\n\u001b[1;32m   4333\u001b[0m \u001b[43m        \u001b[49m\u001b[43mhf_quantizer\u001b[49m\u001b[38;5;241;43m=\u001b[39;49m\u001b[43mhf_quantizer\u001b[49m\u001b[43m,\u001b[49m\n\u001b[1;32m   4334\u001b[0m \u001b[43m        \u001b[49m\u001b[43mkeep_in_fp32_modules\u001b[49m\u001b[38;5;241;43m=\u001b[39;49m\u001b[43mkeep_in_fp32_modules\u001b[49m\u001b[43m,\u001b[49m\n\u001b[1;32m   4335\u001b[0m \u001b[43m        \u001b[49m\u001b[43mgguf_path\u001b[49m\u001b[38;5;241;43m=\u001b[39;49m\u001b[43mgguf_path\u001b[49m\u001b[43m,\u001b[49m\n\u001b[1;32m   4336\u001b[0m \u001b[43m        \u001b[49m\u001b[43mweights_only\u001b[49m\u001b[38;5;241;43m=\u001b[39;49m\u001b[43mweights_only\u001b[49m\u001b[43m,\u001b[49m\n\u001b[1;32m   4337\u001b[0m \u001b[43m    \u001b[49m\u001b[43m)\u001b[49m\n\u001b[1;32m   4339\u001b[0m \u001b[38;5;66;03m# make sure token embedding weights are still tied if needed\u001b[39;00m\n\u001b[1;32m   4340\u001b[0m model\u001b[38;5;241m.\u001b[39mtie_weights()\n",
      "File \u001b[0;32m~/miniconda3/envs/llm/lib/python3.12/site-packages/transformers/modeling_utils.py:4897\u001b[0m, in \u001b[0;36mPreTrainedModel._load_pretrained_model\u001b[0;34m(cls, model, state_dict, loaded_keys, resolved_archive_file, pretrained_model_name_or_path, ignore_mismatched_sizes, sharded_metadata, _fast_init, low_cpu_mem_usage, device_map, offload_folder, offload_state_dict, dtype, hf_quantizer, keep_in_fp32_modules, gguf_path, weights_only)\u001b[0m\n\u001b[1;32m   4895\u001b[0m     \u001b[38;5;28;01melse\u001b[39;00m:\n\u001b[1;32m   4896\u001b[0m         fixed_state_dict \u001b[38;5;241m=\u001b[39m \u001b[38;5;28mcls\u001b[39m\u001b[38;5;241m.\u001b[39m_fix_state_dict_keys_on_load(state_dict)\n\u001b[0;32m-> 4897\u001b[0m         new_error_msgs, offload_index, state_dict_index \u001b[38;5;241m=\u001b[39m \u001b[43m_load_state_dict_into_meta_model\u001b[49m\u001b[43m(\u001b[49m\n\u001b[1;32m   4898\u001b[0m \u001b[43m            \u001b[49m\u001b[43mmodel_to_load\u001b[49m\u001b[43m,\u001b[49m\n\u001b[1;32m   4899\u001b[0m \u001b[43m            \u001b[49m\u001b[43mfixed_state_dict\u001b[49m\u001b[43m,\u001b[49m\n\u001b[1;32m   4900\u001b[0m \u001b[43m            \u001b[49m\u001b[43mstart_prefix\u001b[49m\u001b[43m,\u001b[49m\n\u001b[1;32m   4901\u001b[0m \u001b[43m            \u001b[49m\u001b[43mexpected_keys\u001b[49m\u001b[43m,\u001b[49m\n\u001b[1;32m   4902\u001b[0m \u001b[43m            \u001b[49m\u001b[43mdevice_map\u001b[49m\u001b[38;5;241;43m=\u001b[39;49m\u001b[43mdevice_map\u001b[49m\u001b[43m,\u001b[49m\n\u001b[1;32m   4903\u001b[0m \u001b[43m            \u001b[49m\u001b[43moffload_folder\u001b[49m\u001b[38;5;241;43m=\u001b[39;49m\u001b[43moffload_folder\u001b[49m\u001b[43m,\u001b[49m\n\u001b[1;32m   4904\u001b[0m \u001b[43m            \u001b[49m\u001b[43moffload_index\u001b[49m\u001b[38;5;241;43m=\u001b[39;49m\u001b[43moffload_index\u001b[49m\u001b[43m,\u001b[49m\n\u001b[1;32m   4905\u001b[0m \u001b[43m            \u001b[49m\u001b[43mstate_dict_folder\u001b[49m\u001b[38;5;241;43m=\u001b[39;49m\u001b[43mstate_dict_folder\u001b[49m\u001b[43m,\u001b[49m\n\u001b[1;32m   4906\u001b[0m \u001b[43m            \u001b[49m\u001b[43mstate_dict_index\u001b[49m\u001b[38;5;241;43m=\u001b[39;49m\u001b[43mstate_dict_index\u001b[49m\u001b[43m,\u001b[49m\n\u001b[1;32m   4907\u001b[0m \u001b[43m            \u001b[49m\u001b[43mdtype\u001b[49m\u001b[38;5;241;43m=\u001b[39;49m\u001b[43mdtype\u001b[49m\u001b[43m,\u001b[49m\n\u001b[1;32m   4908\u001b[0m \u001b[43m            \u001b[49m\u001b[43mhf_quantizer\u001b[49m\u001b[38;5;241;43m=\u001b[39;49m\u001b[43mhf_quantizer\u001b[49m\u001b[43m,\u001b[49m\n\u001b[1;32m   4909\u001b[0m \u001b[43m            \u001b[49m\u001b[43mis_safetensors\u001b[49m\u001b[38;5;241;43m=\u001b[39;49m\u001b[43mis_safetensors\u001b[49m\u001b[43m,\u001b[49m\n\u001b[1;32m   4910\u001b[0m \u001b[43m            \u001b[49m\u001b[43mkeep_in_fp32_modules\u001b[49m\u001b[38;5;241;43m=\u001b[39;49m\u001b[43mkeep_in_fp32_modules\u001b[49m\u001b[43m,\u001b[49m\n\u001b[1;32m   4911\u001b[0m \u001b[43m            \u001b[49m\u001b[43munexpected_keys\u001b[49m\u001b[38;5;241;43m=\u001b[39;49m\u001b[43munexpected_keys\u001b[49m\u001b[43m,\u001b[49m\n\u001b[1;32m   4912\u001b[0m \u001b[43m        \u001b[49m\u001b[43m)\u001b[49m\n\u001b[1;32m   4913\u001b[0m         error_msgs \u001b[38;5;241m+\u001b[39m\u001b[38;5;241m=\u001b[39m new_error_msgs\n\u001b[1;32m   4914\u001b[0m \u001b[38;5;28;01melse\u001b[39;00m:\n\u001b[1;32m   4915\u001b[0m     \u001b[38;5;66;03m# Sharded checkpoint or whole but low_cpu_mem_usage==True\u001b[39;00m\n",
      "File \u001b[0;32m~/miniconda3/envs/llm/lib/python3.12/site-packages/transformers/modeling_utils.py:896\u001b[0m, in \u001b[0;36m_load_state_dict_into_meta_model\u001b[0;34m(model, state_dict, start_prefix, expected_keys, device_map, offload_folder, offload_index, state_dict_folder, state_dict_index, dtype, hf_quantizer, is_safetensors, keep_in_fp32_modules, unexpected_keys, pretrained_model_name_or_path)\u001b[0m\n\u001b[1;32m    893\u001b[0m         param_device \u001b[38;5;241m=\u001b[39m \u001b[38;5;124m\"\u001b[39m\u001b[38;5;124mcpu\u001b[39m\u001b[38;5;124m\"\u001b[39m \u001b[38;5;28;01mif\u001b[39;00m is_local_dist_rank_0() \u001b[38;5;28;01melse\u001b[39;00m \u001b[38;5;124m\"\u001b[39m\u001b[38;5;124mmeta\u001b[39m\u001b[38;5;124m\"\u001b[39m\n\u001b[1;32m    895\u001b[0m     \u001b[38;5;66;03m# For backward compatibility with older versions of `accelerate` and for non-quantized params\u001b[39;00m\n\u001b[0;32m--> 896\u001b[0m     \u001b[43mset_module_tensor_to_device\u001b[49m\u001b[43m(\u001b[49m\u001b[43mmodel\u001b[49m\u001b[43m,\u001b[49m\u001b[43m \u001b[49m\u001b[43mparam_name\u001b[49m\u001b[43m,\u001b[49m\u001b[43m \u001b[49m\u001b[43mparam_device\u001b[49m\u001b[43m,\u001b[49m\u001b[43m \u001b[49m\u001b[38;5;241;43m*\u001b[39;49m\u001b[38;5;241;43m*\u001b[39;49m\u001b[43mset_module_kwargs\u001b[49m\u001b[43m)\u001b[49m\n\u001b[1;32m    897\u001b[0m \u001b[38;5;28;01melse\u001b[39;00m:\n\u001b[1;32m    898\u001b[0m     hf_quantizer\u001b[38;5;241m.\u001b[39mcreate_quantized_param(model, param, param_name, param_device, state_dict, unexpected_keys)\n",
      "File \u001b[0;32m~/miniconda3/envs/llm/lib/python3.12/site-packages/accelerate/utils/modeling.py:339\u001b[0m, in \u001b[0;36mset_module_tensor_to_device\u001b[0;34m(module, tensor_name, device, value, dtype, fp16_statistics, tied_params_map)\u001b[0m\n\u001b[1;32m    337\u001b[0m             module\u001b[38;5;241m.\u001b[39m_parameters[tensor_name] \u001b[38;5;241m=\u001b[39m param_cls(new_value, requires_grad\u001b[38;5;241m=\u001b[39mold_value\u001b[38;5;241m.\u001b[39mrequires_grad)\n\u001b[1;32m    338\u001b[0m \u001b[38;5;28;01melif\u001b[39;00m \u001b[38;5;28misinstance\u001b[39m(value, torch\u001b[38;5;241m.\u001b[39mTensor):\n\u001b[0;32m--> 339\u001b[0m     new_value \u001b[38;5;241m=\u001b[39m \u001b[43mvalue\u001b[49m\u001b[38;5;241;43m.\u001b[39;49m\u001b[43mto\u001b[49m\u001b[43m(\u001b[49m\u001b[43mdevice\u001b[49m\u001b[43m)\u001b[49m\n\u001b[1;32m    340\u001b[0m \u001b[38;5;28;01melse\u001b[39;00m:\n\u001b[1;32m    341\u001b[0m     new_value \u001b[38;5;241m=\u001b[39m torch\u001b[38;5;241m.\u001b[39mtensor(value, device\u001b[38;5;241m=\u001b[39mdevice)\n",
      "\u001b[0;31mRuntimeError\u001b[0m: CUDA error: CUDA-capable device(s) is/are busy or unavailable\nCUDA kernel errors might be asynchronously reported at some other API call, so the stacktrace below might be incorrect.\nFor debugging consider passing CUDA_LAUNCH_BLOCKING=1\nCompile with `TORCH_USE_CUDA_DSA` to enable device-side assertions.\n"
     ]
    }
   ],
   "source": [
    "from transformers import AutoModelForCausalLM, BitsAndBytesConfig\n",
    "\n",
    "quantization_config = BitsAndBytesConfig(load_in_8bit=True)\n",
    "\n",
    "model = AutoModelForCausalLM.from_pretrained(model_name, \n",
    "                                             quantization_config=quantization_config, \n",
    "                                             torch_dtype=\"auto\") "
   ]
  },
  {
   "cell_type": "code",
   "execution_count": null,
   "metadata": {},
   "outputs": [
    {
     "name": "stdout",
     "output_type": "stream",
     "text": [
      "Model specification: \n",
      " Qwen2ForCausalLM(\n",
      "  (model): Qwen2Model(\n",
      "    (embed_tokens): Embedding(151936, 1536)\n",
      "    (layers): ModuleList(\n",
      "      (0-27): 28 x Qwen2DecoderLayer(\n",
      "        (self_attn): Qwen2Attention(\n",
      "          (q_proj): Linear8bitLt(in_features=1536, out_features=1536, bias=True)\n",
      "          (k_proj): Linear8bitLt(in_features=1536, out_features=256, bias=True)\n",
      "          (v_proj): Linear8bitLt(in_features=1536, out_features=256, bias=True)\n",
      "          (o_proj): Linear8bitLt(in_features=1536, out_features=1536, bias=False)\n",
      "        )\n",
      "        (mlp): Qwen2MLP(\n",
      "          (gate_proj): Linear8bitLt(in_features=1536, out_features=8960, bias=False)\n",
      "          (up_proj): Linear8bitLt(in_features=1536, out_features=8960, bias=False)\n",
      "          (down_proj): Linear8bitLt(in_features=8960, out_features=1536, bias=False)\n",
      "          (act_fn): SiLU()\n",
      "        )\n",
      "        (input_layernorm): Qwen2RMSNorm((1536,), eps=1e-06)\n",
      "        (post_attention_layernorm): Qwen2RMSNorm((1536,), eps=1e-06)\n",
      "      )\n",
      "    )\n",
      "    (norm): Qwen2RMSNorm((1536,), eps=1e-06)\n",
      "    (rotary_emb): Qwen2RotaryEmbedding()\n",
      "  )\n",
      "  (lm_head): Linear(in_features=1536, out_features=151936, bias=False)\n",
      ")\n"
     ]
    }
   ],
   "source": [
    "print(f\"Model specification: \\n {model}\")"
   ]
  },
  {
   "cell_type": "markdown",
   "metadata": {},
   "source": [
    "# LORA"
   ]
  },
  {
   "cell_type": "code",
   "execution_count": null,
   "metadata": {},
   "outputs": [
    {
     "name": "stdout",
     "output_type": "stream",
     "text": [
      "Number of trainable parameter:\n",
      "trainable params: 1,376,256 || all params: 1,545,090,560 || trainable%: 0.0891\n"
     ]
    }
   ],
   "source": [
    "from peft import LoraConfig, get_peft_model\n",
    "\n",
    "lora_config = LoraConfig(\n",
    "    r=16,          \n",
    "    lora_alpha=32,    \n",
    "    target_modules=[\"q_proj\"], \n",
    "    lora_dropout=0.05, \n",
    "    task_type=\"CAUSAL_LM\" \n",
    ")\n",
    "\n",
    "# model.unload()\n",
    "model = get_peft_model(model, lora_config)\n",
    "\n",
    "\n",
    "print(\"Number of trainable parameter:\")\n",
    "model.print_trainable_parameters()  "
   ]
  },
  {
   "cell_type": "markdown",
   "metadata": {},
   "source": [
    "# TRAINING"
   ]
  },
  {
   "cell_type": "code",
   "execution_count": null,
   "metadata": {},
   "outputs": [
    {
     "name": "stderr",
     "output_type": "stream",
     "text": [
      "/home/yosakoi/miniconda3/envs/llm/lib/python3.12/site-packages/transformers/training_args.py:1594: FutureWarning: `evaluation_strategy` is deprecated and will be removed in version 4.46 of 🤗 Transformers. Use `eval_strategy` instead\n",
      "  warnings.warn(\n"
     ]
    }
   ],
   "source": [
    "from transformers import TrainingArguments\n",
    "\n",
    "args = TrainingArguments(\n",
    "    output_dir=\"/home/yosakoi/Work/chatbot/model/LLM/output\",\n",
    "    logging_dir=\"/home/yosakoi/Work/chatbot/log/llm.log\",\n",
    "    \n",
    "    num_train_epochs=5,\n",
    "    learning_rate=5e-4,\n",
    "    \n",
    "    per_device_train_batch_size=2,\n",
    "    per_device_eval_batch_size=2,\n",
    "    gradient_accumulation_steps=8,\n",
    "    \n",
    "    save_strategy=\"epoch\",\n",
    "    evaluation_strategy=\"steps\",\n",
    "    logging_steps=10,\n",
    "    \n",
    "    gradient_checkpointing=True,\n",
    "    remove_unused_columns=False,\n",
    ")"
   ]
  },
  {
   "cell_type": "code",
   "execution_count": null,
   "metadata": {},
   "outputs": [
    {
     "name": "stdout",
     "output_type": "stream",
     "text": [
      "[2025-03-25 10:30:29,697] [INFO] [real_accelerator.py:222:get_accelerator] Setting ds_accelerator to cuda (auto detect)\n"
     ]
    },
    {
     "name": "stderr",
     "output_type": "stream",
     "text": [
      "/home/yosakoi/miniconda3/envs/llm/compiler_compat/ld: cannot find -laio: No such file or directory\n",
      "collect2: error: ld returned 1 exit status\n",
      "/home/yosakoi/miniconda3/envs/llm/compiler_compat/ld: cannot find -lcufile: No such file or directory\n",
      "collect2: error: ld returned 1 exit status\n",
      "No label_names provided for model class `PeftModelForCausalLM`. Since `PeftModel` hides base models input arguments, if label_names is not given, label_names can't be set automatically within `Trainer`. Note that empty label_names list will be used instead.\n"
     ]
    }
   ],
   "source": [
    "from transformers import Trainer\n",
    "\n",
    "trainer = Trainer(\n",
    "    model=model.to(device),\n",
    "    args=args,\n",
    "    train_dataset=tokenized_dataset[\"train\"],\n",
    "    eval_dataset=tokenized_dataset[\"test\"],\n",
    "    data_collator=data_collator,\n",
    ")"
   ]
  },
  {
   "cell_type": "code",
   "execution_count": null,
   "metadata": {},
   "outputs": [
    {
     "name": "stderr",
     "output_type": "stream",
     "text": [
      "`use_cache=True` is incompatible with gradient checkpointing. Setting `use_cache=False`.\n",
      "/home/yosakoi/miniconda3/envs/llm/lib/python3.12/site-packages/torch/utils/checkpoint.py:87: UserWarning: None of the inputs have requires_grad=True. Gradients will be None\n",
      "  warnings.warn(\n",
      "/home/yosakoi/miniconda3/envs/llm/lib/python3.12/site-packages/bitsandbytes/autograd/_functions.py:315: UserWarning: MatMul8bitLt: inputs will be cast from torch.bfloat16 to float16 during quantization\n",
      "  warnings.warn(f\"MatMul8bitLt: inputs will be cast from {A.dtype} to float16 during quantization\")\n"
     ]
    },
    {
     "ename": "RuntimeError",
     "evalue": "element 0 of tensors does not require grad and does not have a grad_fn",
     "output_type": "error",
     "traceback": [
      "\u001b[0;31m---------------------------------------------------------------------------\u001b[0m",
      "\u001b[0;31mRuntimeError\u001b[0m                              Traceback (most recent call last)",
      "Cell \u001b[0;32mIn[12], line 1\u001b[0m\n\u001b[0;32m----> 1\u001b[0m \u001b[43mtrainer\u001b[49m\u001b[38;5;241;43m.\u001b[39;49m\u001b[43mtrain\u001b[49m\u001b[43m(\u001b[49m\u001b[43m)\u001b[49m\n",
      "File \u001b[0;32m~/miniconda3/envs/llm/lib/python3.12/site-packages/transformers/trainer.py:2241\u001b[0m, in \u001b[0;36mTrainer.train\u001b[0;34m(self, resume_from_checkpoint, trial, ignore_keys_for_eval, **kwargs)\u001b[0m\n\u001b[1;32m   2239\u001b[0m         hf_hub_utils\u001b[38;5;241m.\u001b[39menable_progress_bars()\n\u001b[1;32m   2240\u001b[0m \u001b[38;5;28;01melse\u001b[39;00m:\n\u001b[0;32m-> 2241\u001b[0m     \u001b[38;5;28;01mreturn\u001b[39;00m \u001b[43minner_training_loop\u001b[49m\u001b[43m(\u001b[49m\n\u001b[1;32m   2242\u001b[0m \u001b[43m        \u001b[49m\u001b[43margs\u001b[49m\u001b[38;5;241;43m=\u001b[39;49m\u001b[43margs\u001b[49m\u001b[43m,\u001b[49m\n\u001b[1;32m   2243\u001b[0m \u001b[43m        \u001b[49m\u001b[43mresume_from_checkpoint\u001b[49m\u001b[38;5;241;43m=\u001b[39;49m\u001b[43mresume_from_checkpoint\u001b[49m\u001b[43m,\u001b[49m\n\u001b[1;32m   2244\u001b[0m \u001b[43m        \u001b[49m\u001b[43mtrial\u001b[49m\u001b[38;5;241;43m=\u001b[39;49m\u001b[43mtrial\u001b[49m\u001b[43m,\u001b[49m\n\u001b[1;32m   2245\u001b[0m \u001b[43m        \u001b[49m\u001b[43mignore_keys_for_eval\u001b[49m\u001b[38;5;241;43m=\u001b[39;49m\u001b[43mignore_keys_for_eval\u001b[49m\u001b[43m,\u001b[49m\n\u001b[1;32m   2246\u001b[0m \u001b[43m    \u001b[49m\u001b[43m)\u001b[49m\n",
      "File \u001b[0;32m~/miniconda3/envs/llm/lib/python3.12/site-packages/transformers/trainer.py:2548\u001b[0m, in \u001b[0;36mTrainer._inner_training_loop\u001b[0;34m(self, batch_size, args, resume_from_checkpoint, trial, ignore_keys_for_eval)\u001b[0m\n\u001b[1;32m   2541\u001b[0m context \u001b[38;5;241m=\u001b[39m (\n\u001b[1;32m   2542\u001b[0m     functools\u001b[38;5;241m.\u001b[39mpartial(\u001b[38;5;28mself\u001b[39m\u001b[38;5;241m.\u001b[39maccelerator\u001b[38;5;241m.\u001b[39mno_sync, model\u001b[38;5;241m=\u001b[39mmodel)\n\u001b[1;32m   2543\u001b[0m     \u001b[38;5;28;01mif\u001b[39;00m i \u001b[38;5;241m!=\u001b[39m \u001b[38;5;28mlen\u001b[39m(batch_samples) \u001b[38;5;241m-\u001b[39m \u001b[38;5;241m1\u001b[39m\n\u001b[1;32m   2544\u001b[0m     \u001b[38;5;129;01mand\u001b[39;00m \u001b[38;5;28mself\u001b[39m\u001b[38;5;241m.\u001b[39maccelerator\u001b[38;5;241m.\u001b[39mdistributed_type \u001b[38;5;241m!=\u001b[39m DistributedType\u001b[38;5;241m.\u001b[39mDEEPSPEED\n\u001b[1;32m   2545\u001b[0m     \u001b[38;5;28;01melse\u001b[39;00m contextlib\u001b[38;5;241m.\u001b[39mnullcontext\n\u001b[1;32m   2546\u001b[0m )\n\u001b[1;32m   2547\u001b[0m \u001b[38;5;28;01mwith\u001b[39;00m context():\n\u001b[0;32m-> 2548\u001b[0m     tr_loss_step \u001b[38;5;241m=\u001b[39m \u001b[38;5;28;43mself\u001b[39;49m\u001b[38;5;241;43m.\u001b[39;49m\u001b[43mtraining_step\u001b[49m\u001b[43m(\u001b[49m\u001b[43mmodel\u001b[49m\u001b[43m,\u001b[49m\u001b[43m \u001b[49m\u001b[43minputs\u001b[49m\u001b[43m,\u001b[49m\u001b[43m \u001b[49m\u001b[43mnum_items_in_batch\u001b[49m\u001b[43m)\u001b[49m\n\u001b[1;32m   2550\u001b[0m \u001b[38;5;28;01mif\u001b[39;00m (\n\u001b[1;32m   2551\u001b[0m     args\u001b[38;5;241m.\u001b[39mlogging_nan_inf_filter\n\u001b[1;32m   2552\u001b[0m     \u001b[38;5;129;01mand\u001b[39;00m \u001b[38;5;129;01mnot\u001b[39;00m is_torch_xla_available()\n\u001b[1;32m   2553\u001b[0m     \u001b[38;5;129;01mand\u001b[39;00m (torch\u001b[38;5;241m.\u001b[39misnan(tr_loss_step) \u001b[38;5;129;01mor\u001b[39;00m torch\u001b[38;5;241m.\u001b[39misinf(tr_loss_step))\n\u001b[1;32m   2554\u001b[0m ):\n\u001b[1;32m   2555\u001b[0m     \u001b[38;5;66;03m# if loss is nan or inf simply add the average of previous logged losses\u001b[39;00m\n\u001b[1;32m   2556\u001b[0m     tr_loss \u001b[38;5;241m=\u001b[39m tr_loss \u001b[38;5;241m+\u001b[39m tr_loss \u001b[38;5;241m/\u001b[39m (\u001b[38;5;241m1\u001b[39m \u001b[38;5;241m+\u001b[39m \u001b[38;5;28mself\u001b[39m\u001b[38;5;241m.\u001b[39mstate\u001b[38;5;241m.\u001b[39mglobal_step \u001b[38;5;241m-\u001b[39m \u001b[38;5;28mself\u001b[39m\u001b[38;5;241m.\u001b[39m_globalstep_last_logged)\n",
      "File \u001b[0;32m~/miniconda3/envs/llm/lib/python3.12/site-packages/transformers/trainer.py:3740\u001b[0m, in \u001b[0;36mTrainer.training_step\u001b[0;34m(***failed resolving arguments***)\u001b[0m\n\u001b[1;32m   3737\u001b[0m \u001b[38;5;28;01mif\u001b[39;00m \u001b[38;5;28mself\u001b[39m\u001b[38;5;241m.\u001b[39maccelerator\u001b[38;5;241m.\u001b[39mdistributed_type \u001b[38;5;241m==\u001b[39m DistributedType\u001b[38;5;241m.\u001b[39mDEEPSPEED:\n\u001b[1;32m   3738\u001b[0m     kwargs[\u001b[38;5;124m\"\u001b[39m\u001b[38;5;124mscale_wrt_gas\u001b[39m\u001b[38;5;124m\"\u001b[39m] \u001b[38;5;241m=\u001b[39m \u001b[38;5;28;01mFalse\u001b[39;00m\n\u001b[0;32m-> 3740\u001b[0m \u001b[38;5;28;43mself\u001b[39;49m\u001b[38;5;241;43m.\u001b[39;49m\u001b[43maccelerator\u001b[49m\u001b[38;5;241;43m.\u001b[39;49m\u001b[43mbackward\u001b[49m\u001b[43m(\u001b[49m\u001b[43mloss\u001b[49m\u001b[43m,\u001b[49m\u001b[43m \u001b[49m\u001b[38;5;241;43m*\u001b[39;49m\u001b[38;5;241;43m*\u001b[39;49m\u001b[43mkwargs\u001b[49m\u001b[43m)\u001b[49m\n\u001b[1;32m   3742\u001b[0m \u001b[38;5;28;01mreturn\u001b[39;00m loss\u001b[38;5;241m.\u001b[39mdetach()\n",
      "File \u001b[0;32m~/miniconda3/envs/llm/lib/python3.12/site-packages/accelerate/accelerator.py:2359\u001b[0m, in \u001b[0;36mAccelerator.backward\u001b[0;34m(self, loss, **kwargs)\u001b[0m\n\u001b[1;32m   2357\u001b[0m     \u001b[38;5;28mself\u001b[39m\u001b[38;5;241m.\u001b[39mlomo_backward(loss, learning_rate)\n\u001b[1;32m   2358\u001b[0m \u001b[38;5;28;01melse\u001b[39;00m:\n\u001b[0;32m-> 2359\u001b[0m     \u001b[43mloss\u001b[49m\u001b[38;5;241;43m.\u001b[39;49m\u001b[43mbackward\u001b[49m\u001b[43m(\u001b[49m\u001b[38;5;241;43m*\u001b[39;49m\u001b[38;5;241;43m*\u001b[39;49m\u001b[43mkwargs\u001b[49m\u001b[43m)\u001b[49m\n",
      "File \u001b[0;32m~/miniconda3/envs/llm/lib/python3.12/site-packages/torch/_tensor.py:626\u001b[0m, in \u001b[0;36mTensor.backward\u001b[0;34m(self, gradient, retain_graph, create_graph, inputs)\u001b[0m\n\u001b[1;32m    616\u001b[0m \u001b[38;5;28;01mif\u001b[39;00m has_torch_function_unary(\u001b[38;5;28mself\u001b[39m):\n\u001b[1;32m    617\u001b[0m     \u001b[38;5;28;01mreturn\u001b[39;00m handle_torch_function(\n\u001b[1;32m    618\u001b[0m         Tensor\u001b[38;5;241m.\u001b[39mbackward,\n\u001b[1;32m    619\u001b[0m         (\u001b[38;5;28mself\u001b[39m,),\n\u001b[0;32m   (...)\u001b[0m\n\u001b[1;32m    624\u001b[0m         inputs\u001b[38;5;241m=\u001b[39minputs,\n\u001b[1;32m    625\u001b[0m     )\n\u001b[0;32m--> 626\u001b[0m \u001b[43mtorch\u001b[49m\u001b[38;5;241;43m.\u001b[39;49m\u001b[43mautograd\u001b[49m\u001b[38;5;241;43m.\u001b[39;49m\u001b[43mbackward\u001b[49m\u001b[43m(\u001b[49m\n\u001b[1;32m    627\u001b[0m \u001b[43m    \u001b[49m\u001b[38;5;28;43mself\u001b[39;49m\u001b[43m,\u001b[49m\u001b[43m \u001b[49m\u001b[43mgradient\u001b[49m\u001b[43m,\u001b[49m\u001b[43m \u001b[49m\u001b[43mretain_graph\u001b[49m\u001b[43m,\u001b[49m\u001b[43m \u001b[49m\u001b[43mcreate_graph\u001b[49m\u001b[43m,\u001b[49m\u001b[43m \u001b[49m\u001b[43minputs\u001b[49m\u001b[38;5;241;43m=\u001b[39;49m\u001b[43minputs\u001b[49m\n\u001b[1;32m    628\u001b[0m \u001b[43m\u001b[49m\u001b[43m)\u001b[49m\n",
      "File \u001b[0;32m~/miniconda3/envs/llm/lib/python3.12/site-packages/torch/autograd/__init__.py:347\u001b[0m, in \u001b[0;36mbackward\u001b[0;34m(tensors, grad_tensors, retain_graph, create_graph, grad_variables, inputs)\u001b[0m\n\u001b[1;32m    342\u001b[0m     retain_graph \u001b[38;5;241m=\u001b[39m create_graph\n\u001b[1;32m    344\u001b[0m \u001b[38;5;66;03m# The reason we repeat the same comment below is that\u001b[39;00m\n\u001b[1;32m    345\u001b[0m \u001b[38;5;66;03m# some Python versions print out the first line of a multi-line function\u001b[39;00m\n\u001b[1;32m    346\u001b[0m \u001b[38;5;66;03m# calls in the traceback and some print out the last line\u001b[39;00m\n\u001b[0;32m--> 347\u001b[0m \u001b[43m_engine_run_backward\u001b[49m\u001b[43m(\u001b[49m\n\u001b[1;32m    348\u001b[0m \u001b[43m    \u001b[49m\u001b[43mtensors\u001b[49m\u001b[43m,\u001b[49m\n\u001b[1;32m    349\u001b[0m \u001b[43m    \u001b[49m\u001b[43mgrad_tensors_\u001b[49m\u001b[43m,\u001b[49m\n\u001b[1;32m    350\u001b[0m \u001b[43m    \u001b[49m\u001b[43mretain_graph\u001b[49m\u001b[43m,\u001b[49m\n\u001b[1;32m    351\u001b[0m \u001b[43m    \u001b[49m\u001b[43mcreate_graph\u001b[49m\u001b[43m,\u001b[49m\n\u001b[1;32m    352\u001b[0m \u001b[43m    \u001b[49m\u001b[43minputs\u001b[49m\u001b[43m,\u001b[49m\n\u001b[1;32m    353\u001b[0m \u001b[43m    \u001b[49m\u001b[43mallow_unreachable\u001b[49m\u001b[38;5;241;43m=\u001b[39;49m\u001b[38;5;28;43;01mTrue\u001b[39;49;00m\u001b[43m,\u001b[49m\n\u001b[1;32m    354\u001b[0m \u001b[43m    \u001b[49m\u001b[43maccumulate_grad\u001b[49m\u001b[38;5;241;43m=\u001b[39;49m\u001b[38;5;28;43;01mTrue\u001b[39;49;00m\u001b[43m,\u001b[49m\n\u001b[1;32m    355\u001b[0m \u001b[43m\u001b[49m\u001b[43m)\u001b[49m\n",
      "File \u001b[0;32m~/miniconda3/envs/llm/lib/python3.12/site-packages/torch/autograd/graph.py:823\u001b[0m, in \u001b[0;36m_engine_run_backward\u001b[0;34m(t_outputs, *args, **kwargs)\u001b[0m\n\u001b[1;32m    821\u001b[0m     unregister_hooks \u001b[38;5;241m=\u001b[39m _register_logging_hooks_on_whole_graph(t_outputs)\n\u001b[1;32m    822\u001b[0m \u001b[38;5;28;01mtry\u001b[39;00m:\n\u001b[0;32m--> 823\u001b[0m     \u001b[38;5;28;01mreturn\u001b[39;00m \u001b[43mVariable\u001b[49m\u001b[38;5;241;43m.\u001b[39;49m\u001b[43m_execution_engine\u001b[49m\u001b[38;5;241;43m.\u001b[39;49m\u001b[43mrun_backward\u001b[49m\u001b[43m(\u001b[49m\u001b[43m  \u001b[49m\u001b[38;5;66;43;03m# Calls into the C++ engine to run the backward pass\u001b[39;49;00m\n\u001b[1;32m    824\u001b[0m \u001b[43m        \u001b[49m\u001b[43mt_outputs\u001b[49m\u001b[43m,\u001b[49m\u001b[43m \u001b[49m\u001b[38;5;241;43m*\u001b[39;49m\u001b[43margs\u001b[49m\u001b[43m,\u001b[49m\u001b[43m \u001b[49m\u001b[38;5;241;43m*\u001b[39;49m\u001b[38;5;241;43m*\u001b[39;49m\u001b[43mkwargs\u001b[49m\n\u001b[1;32m    825\u001b[0m \u001b[43m    \u001b[49m\u001b[43m)\u001b[49m  \u001b[38;5;66;03m# Calls into the C++ engine to run the backward pass\u001b[39;00m\n\u001b[1;32m    826\u001b[0m \u001b[38;5;28;01mfinally\u001b[39;00m:\n\u001b[1;32m    827\u001b[0m     \u001b[38;5;28;01mif\u001b[39;00m attach_logging_hooks:\n",
      "\u001b[0;31mRuntimeError\u001b[0m: element 0 of tensors does not require grad and does not have a grad_fn"
     ]
    }
   ],
   "source": [
    "trainer.train()"
   ]
  },
  {
   "cell_type": "code",
   "execution_count": null,
   "metadata": {},
   "outputs": [],
   "source": [
    "# Save LoRA weights\n",
    "model_engine.module.save_pretrained(\"path/to/save/model\")\n",
    "\n",
    "# Save tokenizer\n",
    "tokenizer.save_pretrained(\"path/to/save/model\")"
   ]
  }
 ],
 "metadata": {
  "kernelspec": {
   "display_name": "llm",
   "language": "python",
   "name": "python3"
  },
  "language_info": {
   "codemirror_mode": {
    "name": "ipython",
    "version": 3
   },
   "file_extension": ".py",
   "mimetype": "text/x-python",
   "name": "python",
   "nbconvert_exporter": "python",
   "pygments_lexer": "ipython3",
   "version": "3.12.9"
  }
 },
 "nbformat": 4,
 "nbformat_minor": 4
}
