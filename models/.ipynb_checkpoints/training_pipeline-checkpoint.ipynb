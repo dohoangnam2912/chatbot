{
 "cells": [
  {
   "cell_type": "code",
   "execution_count": null,
   "metadata": {},
   "outputs": [],
   "source": [
    "from transformers import AutoModelForCausalLM, AutoTokenizer\n",
    "model_name = 'openai-community/gpt2'\n",
    "model = AutoModelForCausalLM.from_pretrained(model_name)\n",
    "model.gradient_checkpointing_enable()"
   ]
  },
  {
   "cell_type": "code",
   "execution_count": null,
   "metadata": {},
   "outputs": [],
   "source": [
    "import os\n",
    "import json\n",
    "data_folder = '/content/drive/MyDrive/Colab Notebooks/Chatbot'\n",
    "data = []\n",
    "for filename in os.listdir(data_folder):\n",
    "    if filename.endswith('.json'):\n",
    "        with open(os.path.join(data_folder, filename)) as f:\n",
    "            file_data = json.load(f)\n",
    "            for entry in file_data:\n",
    "                instruction = entry.get('instruction', '')\n",
    "                output = entry.get('output', '')\n",
    "                if instruction and output:\n",
    "                    data.append({'prompt': instruction, 'completion': output})"
   ]
  }
 ],
 "metadata": {
  "language_info": {
   "name": "python"
  }
 },
 "nbformat": 4,
 "nbformat_minor": 2
}
